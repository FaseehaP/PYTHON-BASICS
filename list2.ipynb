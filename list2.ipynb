{
 "cells": [
  {
   "cell_type": "code",
   "execution_count": 25,
   "id": "f11aa0b1",
   "metadata": {},
   "outputs": [
    {
     "name": "stdout",
     "output_type": "stream",
     "text": [
      "[12, 6, 90, 88, 44, 70]\n",
      "[12, 6, 90, 88, 44, 70]\n"
     ]
    }
   ],
   "source": [
    "l1=[12,6,90,88,44]\n",
    "l2=l1\n",
    "l2.append(70)\n",
    "print(l1)\n",
    "print(l2)"
   ]
  },
  {
   "cell_type": "code",
   "execution_count": 26,
   "id": "1e0b7a14",
   "metadata": {},
   "outputs": [
    {
     "name": "stdout",
     "output_type": "stream",
     "text": [
      "[12, 6, 90, 88, 44, 70]\n",
      "[12, 6, 90, 88, 44, 70, 100]\n"
     ]
    }
   ],
   "source": [
    "cl=l1.copy()\n",
    "cl.append(100)\n",
    "print(l1)\n",
    "print(cl)"
   ]
  },
  {
   "cell_type": "code",
   "execution_count": 27,
   "id": "c20190fd",
   "metadata": {},
   "outputs": [
    {
     "name": "stdout",
     "output_type": "stream",
     "text": [
      "[12, 6, 90, 88, 44, 70]\n",
      "[12, 6, 90, 88, 44, 70, 1]\n"
     ]
    }
   ],
   "source": [
    "sl=l1[:]\n",
    "sl.append(1)\n",
    "print(l1)\n",
    "print(sl)"
   ]
  },
  {
   "cell_type": "code",
   "execution_count": 28,
   "id": "1111f331",
   "metadata": {},
   "outputs": [
    {
     "name": "stdout",
     "output_type": "stream",
     "text": [
      "[12, 6, 88, 44, 70]\n"
     ]
    }
   ],
   "source": [
    "l1.remove(90)\n",
    "print(l1)"
   ]
  },
  {
   "cell_type": "code",
   "execution_count": 29,
   "id": "6bd1d327",
   "metadata": {},
   "outputs": [
    {
     "name": "stdout",
     "output_type": "stream",
     "text": [
      "[1, 70, 44, 88, 90, 6, 12]\n"
     ]
    }
   ],
   "source": [
    "sl.reverse()\n",
    "print(sl)"
   ]
  },
  {
   "cell_type": "code",
   "execution_count": 32,
   "id": "f78f4a89",
   "metadata": {},
   "outputs": [
    {
     "name": "stdout",
     "output_type": "stream",
     "text": [
      "[100, 70, 44, 88, 90, 6, 12]\n"
     ]
    }
   ],
   "source": [
    "rl=cl[::-1]\n",
    "print(rl)"
   ]
  },
  {
   "cell_type": "code",
   "execution_count": 34,
   "id": "a15527f2",
   "metadata": {},
   "outputs": [
    {
     "name": "stdout",
     "output_type": "stream",
     "text": [
      "[1, 6, 12, 44, 70, 88, 90]\n"
     ]
    }
   ],
   "source": [
    "sl.sort()\n",
    "print(sl)"
   ]
  },
  {
   "cell_type": "code",
   "execution_count": 36,
   "id": "543330a3",
   "metadata": {},
   "outputs": [
    {
     "name": "stdout",
     "output_type": "stream",
     "text": [
      "[100, 90, 88, 70, 44, 12, 6]\n"
     ]
    }
   ],
   "source": [
    "rl.sort(reverse=True)\n",
    "print(rl)"
   ]
  },
  {
   "cell_type": "code",
   "execution_count": 40,
   "id": "89184f4f",
   "metadata": {},
   "outputs": [
    {
     "name": "stdout",
     "output_type": "stream",
     "text": [
      "False\n",
      "True\n"
     ]
    }
   ],
   "source": [
    "li=[]\n",
    "print(any(li))\n",
    "print(any(rl))"
   ]
  },
  {
   "cell_type": "code",
   "execution_count": 41,
   "id": "23b47876",
   "metadata": {},
   "outputs": [
    {
     "name": "stdout",
     "output_type": "stream",
     "text": [
      "True\n",
      "True\n"
     ]
    }
   ],
   "source": [
    "print(all(li))\n",
    "print(all(rl))"
   ]
  },
  {
   "cell_type": "code",
   "execution_count": 43,
   "id": "b7009cef",
   "metadata": {},
   "outputs": [
    {
     "name": "stdout",
     "output_type": "stream",
     "text": [
      "<enumerate object at 0x000002179F650F40>\n"
     ]
    }
   ],
   "source": [
    "print(enumerate(rl))"
   ]
  },
  {
   "cell_type": "code",
   "execution_count": 44,
   "id": "36e170f5",
   "metadata": {},
   "outputs": [
    {
     "name": "stdout",
     "output_type": "stream",
     "text": [
      "7\n"
     ]
    }
   ],
   "source": [
    "print(len(rl))"
   ]
  },
  {
   "cell_type": "code",
   "execution_count": 46,
   "id": "bfb8537d",
   "metadata": {},
   "outputs": [
    {
     "name": "stdout",
     "output_type": "stream",
     "text": [
      "['f', 'a', 's', 'e', 'e', 'h', 'a']\n"
     ]
    }
   ],
   "source": [
    "str=\"faseeha\"\n",
    "l5=list(str)\n",
    "print(l5)"
   ]
  },
  {
   "cell_type": "markdown",
   "id": "bf584749",
   "metadata": {},
   "source": [
    "max(rl)"
   ]
  },
  {
   "cell_type": "code",
   "execution_count": 47,
   "id": "22de5cbf",
   "metadata": {},
   "outputs": [
    {
     "data": {
      "text/plain": [
       "100"
      ]
     },
     "execution_count": 47,
     "metadata": {},
     "output_type": "execute_result"
    }
   ],
   "source": [
    "max(rl)"
   ]
  },
  {
   "cell_type": "code",
   "execution_count": 48,
   "id": "b92c7e47",
   "metadata": {},
   "outputs": [
    {
     "data": {
      "text/plain": [
       "6"
      ]
     },
     "execution_count": 48,
     "metadata": {},
     "output_type": "execute_result"
    }
   ],
   "source": [
    "min(rl)"
   ]
  },
  {
   "cell_type": "code",
   "execution_count": 49,
   "id": "ba38dbe1",
   "metadata": {},
   "outputs": [
    {
     "data": {
      "text/plain": [
       "[6, 12, 44, 70, 88, 90, 100]"
      ]
     },
     "execution_count": 49,
     "metadata": {},
     "output_type": "execute_result"
    }
   ],
   "source": [
    "sorted(rl)"
   ]
  },
  {
   "cell_type": "code",
   "execution_count": 50,
   "id": "95274d2b",
   "metadata": {},
   "outputs": [
    {
     "data": {
      "text/plain": [
       "410"
      ]
     },
     "execution_count": 50,
     "metadata": {},
     "output_type": "execute_result"
    }
   ],
   "source": [
    "sum(rl)"
   ]
  },
  {
   "cell_type": "code",
   "execution_count": null,
   "id": "d44b2a31",
   "metadata": {},
   "outputs": [],
   "source": []
  }
 ],
 "metadata": {
  "kernelspec": {
   "display_name": "Python 3 (ipykernel)",
   "language": "python",
   "name": "python3"
  },
  "language_info": {
   "codemirror_mode": {
    "name": "ipython",
    "version": 3
   },
   "file_extension": ".py",
   "mimetype": "text/x-python",
   "name": "python",
   "nbconvert_exporter": "python",
   "pygments_lexer": "ipython3",
   "version": "3.9.7"
  }
 },
 "nbformat": 4,
 "nbformat_minor": 5
}
