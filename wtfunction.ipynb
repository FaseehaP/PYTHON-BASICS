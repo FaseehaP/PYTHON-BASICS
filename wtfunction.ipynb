{
 "cells": [
  {
   "cell_type": "code",
   "execution_count": null,
   "id": "787734a7",
   "metadata": {},
   "outputs": [],
   "source": [
    "def max(a,b,c):\n",
    "    if(a>b & a>c):\n",
    "        l=a\n",
    "    elif b>c :\n",
    "        l=b\n",
    "    else:\n",
    "        l=c\n",
    "    return l\n",
    "a1=int(input('number 1 :'))\n",
    "a2=int(input('number 2:'))\n",
    "a3=int(input('number 3:'))\n",
    "print(\"max number is \",max(a1,a2,a3))"
   ]
  },
  {
   "cell_type": "code",
   "execution_count": null,
   "id": "9a143f8b",
   "metadata": {},
   "outputs": [],
   "source": [
    "def fun(name,age):\n",
    "    print(\"name :\",name)\n",
    "    print(\"age :\",age)\n",
    "a1=str(input('enter the name :'))\n",
    "a2=int(input('enter the age :'))\n",
    "fun(a1,a2)"
   ]
  },
  {
   "cell_type": "code",
   "execution_count": 6,
   "id": "c9165990",
   "metadata": {},
   "outputs": [
    {
     "name": "stdout",
     "output_type": "stream",
     "text": [
      "[16, 49, 64, 4, 9]\n"
     ]
    }
   ],
   "source": [
    "myli=[4,7,8,2,3]\n",
    "new=list(map(lambda i:i*i , myli))\n",
    "print(new)"
   ]
  },
  {
   "cell_type": "code",
   "execution_count": 7,
   "id": "b6d3cbbe",
   "metadata": {},
   "outputs": [
    {
     "name": "stdout",
     "output_type": "stream",
     "text": [
      "[9, 12, 15]\n"
     ]
    }
   ],
   "source": [
    "l1=[5,8,9,12,15,11,17]\n",
    "l2=list(filter(lambda x: x%3==0,l1))\n",
    "print(l2)"
   ]
  },
  {
   "cell_type": "code",
   "execution_count": 2,
   "id": "9dc05df0",
   "metadata": {},
   "outputs": [
    {
     "name": "stdout",
     "output_type": "stream",
     "text": [
      "enter the limit :5\n",
      "0\n",
      "1\n",
      "1\n",
      "2\n",
      "3\n"
     ]
    }
   ],
   "source": [
    "def fib(n):\n",
    "    if n<=1:\n",
    "        return n\n",
    "    else:\n",
    "        return (fib(n-1)+fib(n-2))\n",
    "a=int(input('enter the limit :'))\n",
    "for i in range(a):\n",
    "    print(fib(i))"
   ]
  },
  {
   "cell_type": "code",
   "execution_count": null,
   "id": "2ef071de",
   "metadata": {},
   "outputs": [],
   "source": [
    "def fact(n):\n",
    "    if n==1:\n",
    "        return n\n",
    "    else:\n",
    "        return (n*fact(n-1))\n",
    "a=int(input('enter the limit :'))\n",
    "print('factorial is ',fact(a))"
   ]
  },
  {
   "cell_type": "code",
   "execution_count": null,
   "id": "eb729c19",
   "metadata": {},
   "outputs": [],
   "source": [
    "def sum(n):\n",
    "    if n==1:\n",
    "        return n\n",
    "    else:\n",
    "        return (n+sum(n-1))\n",
    "a=int(input('enter the limit :'))\n",
    "print(\"sum is \",sum(a))"
   ]
  },
  {
   "cell_type": "code",
   "execution_count": 1,
   "id": "c2f30de0",
   "metadata": {},
   "outputs": [
    {
     "name": "stdout",
     "output_type": "stream",
     "text": [
      "enter the number :12\n",
      "not armstrong\n"
     ]
    }
   ],
   "source": [
    "s=0\n",
    "def armstrong(n):\n",
    "    global s\n",
    "    if n>0:\n",
    "        rem=n%10\n",
    "        s=s+rem*rem*rem\n",
    "        armstrong(n//10)\n",
    "    return(s)\n",
    "a=int(input('enter the number :'))\n",
    "if(a==armstrong(a)):\n",
    "    print(\"armstrong\")\n",
    "else:\n",
    "    print(\"not armstrong\")"
   ]
  },
  {
   "cell_type": "code",
   "execution_count": 4,
   "id": "81138d79",
   "metadata": {},
   "outputs": [
    {
     "name": "stdout",
     "output_type": "stream",
     "text": [
      "enter the number25\n",
      "sqrt of  25.0  =  5.0\n"
     ]
    }
   ],
   "source": [
    "from math import sqrt\n",
    "num=float(input(\"enter the number : \"))\n",
    "print(\"sqrt of \",num,\" = \",sqrt(num))"
   ]
  },
  {
   "cell_type": "code",
   "execution_count": 4,
   "id": "7decf104",
   "metadata": {},
   "outputs": [
    {
     "name": "stdout",
     "output_type": "stream",
     "text": [
      "enter the number : 5\n",
      "factorial of  5  =  120\n"
     ]
    }
   ],
   "source": [
    "import math\n",
    "num=int(input(\"enter the number : \"))\n",
    "print(\"factorial of \",num,\" = \",math.factorial(num))"
   ]
  },
  {
   "cell_type": "code",
   "execution_count": 22,
   "id": "6d1467af",
   "metadata": {},
   "outputs": [
    {
     "name": "stdout",
     "output_type": "stream",
     "text": [
      "                                  2022\n",
      "\n",
      "      January                   February                   March\n",
      "Mo Tu We Th Fr Sa Su      Mo Tu We Th Fr Sa Su      Mo Tu We Th Fr Sa Su\n",
      "                1  2          1  2  3  4  5  6          1  2  3  4  5  6\n",
      " 3  4  5  6  7  8  9       7  8  9 10 11 12 13       7  8  9 10 11 12 13\n",
      "10 11 12 13 14 15 16      14 15 16 17 18 19 20      14 15 16 17 18 19 20\n",
      "17 18 19 20 21 22 23      21 22 23 24 25 26 27      21 22 23 24 25 26 27\n",
      "24 25 26 27 28 29 30      28                        28 29 30 31\n",
      "31\n",
      "\n",
      "       April                      May                       June\n",
      "Mo Tu We Th Fr Sa Su      Mo Tu We Th Fr Sa Su      Mo Tu We Th Fr Sa Su\n",
      "             1  2  3                         1             1  2  3  4  5\n",
      " 4  5  6  7  8  9 10       2  3  4  5  6  7  8       6  7  8  9 10 11 12\n",
      "11 12 13 14 15 16 17       9 10 11 12 13 14 15      13 14 15 16 17 18 19\n",
      "18 19 20 21 22 23 24      16 17 18 19 20 21 22      20 21 22 23 24 25 26\n",
      "25 26 27 28 29 30         23 24 25 26 27 28 29      27 28 29 30\n",
      "                          30 31\n",
      "\n",
      "        July                     August                  September\n",
      "Mo Tu We Th Fr Sa Su      Mo Tu We Th Fr Sa Su      Mo Tu We Th Fr Sa Su\n",
      "             1  2  3       1  2  3  4  5  6  7                1  2  3  4\n",
      " 4  5  6  7  8  9 10       8  9 10 11 12 13 14       5  6  7  8  9 10 11\n",
      "11 12 13 14 15 16 17      15 16 17 18 19 20 21      12 13 14 15 16 17 18\n",
      "18 19 20 21 22 23 24      22 23 24 25 26 27 28      19 20 21 22 23 24 25\n",
      "25 26 27 28 29 30 31      29 30 31                  26 27 28 29 30\n",
      "\n",
      "      October                   November                  December\n",
      "Mo Tu We Th Fr Sa Su      Mo Tu We Th Fr Sa Su      Mo Tu We Th Fr Sa Su\n",
      "                1  2          1  2  3  4  5  6                1  2  3  4\n",
      " 3  4  5  6  7  8  9       7  8  9 10 11 12 13       5  6  7  8  9 10 11\n",
      "10 11 12 13 14 15 16      14 15 16 17 18 19 20      12 13 14 15 16 17 18\n",
      "17 18 19 20 21 22 23      21 22 23 24 25 26 27      19 20 21 22 23 24 25\n",
      "24 25 26 27 28 29 30      28 29 30                  26 27 28 29 30 31\n",
      "31\n",
      "\n"
     ]
    }
   ],
   "source": [
    "import calendar\n",
    "print(calendar.calendar(2022))"
   ]
  },
  {
   "cell_type": "code",
   "execution_count": 14,
   "id": "812f3eea",
   "metadata": {},
   "outputs": [
    {
     "name": "stdout",
     "output_type": "stream",
     "text": [
      "enter the number : -90\n",
      "90.0\n"
     ]
    }
   ],
   "source": [
    "num=float(input(\"enter the number : \"))\n",
    "print(abs(num))"
   ]
  },
  {
   "cell_type": "code",
   "execution_count": 19,
   "id": "0f253ea4",
   "metadata": {},
   "outputs": [
    {
     "name": "stdout",
     "output_type": "stream",
     "text": [
      "64.0\n"
     ]
    }
   ],
   "source": [
    "from math import pow\n",
    "print(pow(4,3))#4^3"
   ]
  },
  {
   "cell_type": "code",
   "execution_count": 21,
   "id": "e8f223f7",
   "metadata": {},
   "outputs": [
    {
     "name": "stdout",
     "output_type": "stream",
     "text": [
      "current date : 2022-05-09\n"
     ]
    }
   ],
   "source": [
    "import datetime\n",
    "print('current date :',datetime.date.today())"
   ]
  },
  {
   "cell_type": "code",
   "execution_count": 23,
   "id": "d21f246c",
   "metadata": {},
   "outputs": [
    {
     "name": "stdout",
     "output_type": "stream",
     "text": [
      "current date : 2022-05-09\n"
     ]
    }
   ],
   "source": [
    "from datetime import date\n",
    "print('current date :',date.today())"
   ]
  },
  {
   "cell_type": "code",
   "execution_count": 24,
   "id": "45dca147",
   "metadata": {},
   "outputs": [
    {
     "data": {
      "text/plain": [
       "9"
      ]
     },
     "execution_count": 24,
     "metadata": {},
     "output_type": "execute_result"
    }
   ],
   "source": [
    "min(23,10,9)"
   ]
  },
  {
   "cell_type": "code",
   "execution_count": 13,
   "id": "c97cfe38",
   "metadata": {},
   "outputs": [
    {
     "data": {
      "text/plain": [
       "100"
      ]
     },
     "execution_count": 13,
     "metadata": {},
     "output_type": "execute_result"
    }
   ],
   "source": [
    "max(44,90,66,100)"
   ]
  },
  {
   "cell_type": "code",
   "execution_count": 8,
   "id": "f57d48b8",
   "metadata": {},
   "outputs": [
    {
     "name": "stdout",
     "output_type": "stream",
     "text": [
      "Employee name :  anu\n",
      "Salary :  28000\n",
      "Employee name :  minu\n",
      "Salary :  9000\n"
     ]
    }
   ],
   "source": [
    "def show(name,salary=9000):\n",
    "    print(\"Employee name : \",name)\n",
    "    print(\"Salary : \",salary)\n",
    "#nm=str(input('enter employee name : '))\n",
    "#sal=int(input('enter employee salary : '))\n",
    "show('anu',28000)\n",
    "show('minu')"
   ]
  },
  {
   "cell_type": "code",
   "execution_count": 15,
   "id": "9603f5f2",
   "metadata": {},
   "outputs": [
    {
     "name": "stdout",
     "output_type": "stream",
     "text": [
      "sum :  30  diff :  10\n"
     ]
    }
   ],
   "source": [
    "def calculation(x,y):\n",
    "    s=x+y\n",
    "    d=x-y\n",
    "    return s,d\n",
    "b=calculation(20,10)\n",
    "print(\"sum : \",b[0],\" diff : \",b[1])"
   ]
  },
  {
   "cell_type": "code",
   "execution_count": 5,
   "id": "c1391407",
   "metadata": {},
   "outputs": [
    {
     "name": "stdout",
     "output_type": "stream",
     "text": [
      "anna\n",
      "palindrome\n"
     ]
    }
   ],
   "source": [
    "def reverse(str):\n",
    "    str1=\"\".join(reversed(str))\n",
    "    return str1\n",
    "str=\"anna\"\n",
    "print(reverse(str))\n",
    "if(str==reverse(str)):\n",
    "    print(\"palindrome\")\n",
    "else:\n",
    "    print(\"not palindrome\")"
   ]
  },
  {
   "cell_type": "code",
   "execution_count": 11,
   "id": "a5723417",
   "metadata": {},
   "outputs": [
    {
     "name": "stdout",
     "output_type": "stream",
     "text": [
      "unna\n"
     ]
    }
   ],
   "source": [
    "def rev(str):\n",
    "    st=str[::-1]\n",
    "    return st\n",
    "print(rev('annu'))"
   ]
  },
  {
   "cell_type": "code",
   "execution_count": 16,
   "id": "069fbc9c",
   "metadata": {},
   "outputs": [
    {
     "name": "stdout",
     "output_type": "stream",
     "text": [
      "a\n",
      "na\n",
      "una\n",
      "una\n"
     ]
    }
   ],
   "source": [
    "def revv(s):\n",
    "    st=\"\"\n",
    "    for i in s:\n",
    "        st=i+st\n",
    "        #print(st)\n",
    "    return st\n",
    "print(revv('anu'))"
   ]
  },
  {
   "cell_type": "code",
   "execution_count": 12,
   "id": "96cfc812",
   "metadata": {},
   "outputs": [
    {
     "name": "stdout",
     "output_type": "stream",
     "text": [
      "enter the string :anna\n",
      "palindrome\n"
     ]
    }
   ],
   "source": [
    "def reverse(s):\n",
    "    if(len(s)==0):\n",
    "        return s\n",
    "    return reverse(s[1:])+s[0]\n",
    "#print(reverse('zmu'))\n",
    "s=str(input('enter the string :'))\n",
    "if(s==reverse(s)):\n",
    "    print(\"palindrome\")\n",
    "else:\n",
    "    print(\"not palindrome\")"
   ]
  },
  {
   "cell_type": "code",
   "execution_count": null,
   "id": "cf5135c0",
   "metadata": {},
   "outputs": [],
   "source": []
  }
 ],
 "metadata": {
  "kernelspec": {
   "display_name": "Python 3 (ipykernel)",
   "language": "python",
   "name": "python3"
  },
  "language_info": {
   "codemirror_mode": {
    "name": "ipython",
    "version": 3
   },
   "file_extension": ".py",
   "mimetype": "text/x-python",
   "name": "python",
   "nbconvert_exporter": "python",
   "pygments_lexer": "ipython3",
   "version": "3.9.7"
  }
 },
 "nbformat": 4,
 "nbformat_minor": 5
}
