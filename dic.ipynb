{
 "cells": [
  {
   "cell_type": "code",
   "execution_count": 1,
   "id": "7fb389ea",
   "metadata": {},
   "outputs": [],
   "source": [
    "dic={'A':'1233','B':'7890','C':'4567'}"
   ]
  },
  {
   "cell_type": "code",
   "execution_count": 2,
   "id": "acceaa6d",
   "metadata": {},
   "outputs": [
    {
     "data": {
      "text/plain": [
       "{'A': '1233', 'B': '7890', 'C': '4567'}"
      ]
     },
     "execution_count": 2,
     "metadata": {},
     "output_type": "execute_result"
    }
   ],
   "source": [
    "dic"
   ]
  },
  {
   "cell_type": "code",
   "execution_count": 3,
   "id": "f63720ee",
   "metadata": {},
   "outputs": [],
   "source": [
    "dic={'A':1233,'B':7890,'C':4567}"
   ]
  },
  {
   "cell_type": "code",
   "execution_count": 4,
   "id": "579150f7",
   "metadata": {},
   "outputs": [
    {
     "data": {
      "text/plain": [
       "{'A': 1233, 'B': 7890, 'C': 4567}"
      ]
     },
     "execution_count": 4,
     "metadata": {},
     "output_type": "execute_result"
    }
   ],
   "source": [
    "dic"
   ]
  },
  {
   "cell_type": "code",
   "execution_count": 7,
   "id": "0d70681b",
   "metadata": {},
   "outputs": [],
   "source": [
    "dic={'A':'1233',2:7890,'C':'4567'}"
   ]
  },
  {
   "cell_type": "code",
   "execution_count": 10,
   "id": "e2e6455e",
   "metadata": {},
   "outputs": [
    {
     "name": "stdout",
     "output_type": "stream",
     "text": [
      "7890\n",
      "4567\n"
     ]
    }
   ],
   "source": [
    "print(dic[2])\n",
    "print(dic['C'])"
   ]
  },
  {
   "cell_type": "code",
   "execution_count": 19,
   "id": "4e37f4e5",
   "metadata": {},
   "outputs": [
    {
     "name": "stdout",
     "output_type": "stream",
     "text": [
      "name: fasi\n",
      "age: 22\n",
      "sub: msccs\n"
     ]
    }
   ],
   "source": [
    "d={'name':\"fasi\",\"age\":22,\"sub\":\"msccs\"}\n",
    "print(\"name:\",d['name'])\n",
    "print(\"age:\",d['age'])\n",
    "print(\"sub:\",d['sub'])"
   ]
  },
  {
   "cell_type": "code",
   "execution_count": 20,
   "id": "a3d52fa1",
   "metadata": {},
   "outputs": [
    {
     "name": "stdout",
     "output_type": "stream",
     "text": [
      "age: 23\n"
     ]
    },
    {
     "data": {
      "text/plain": [
       "{'name': 'fasi', 'age': 23, 'sub': 'msccs', 'college': 'cu campus'}"
      ]
     },
     "execution_count": 20,
     "metadata": {},
     "output_type": "execute_result"
    }
   ],
   "source": [
    "d['age']=23\n",
    "print(\"age:\",d['age'])\n",
    "d['college']=\"cu campus\"\n",
    "d"
   ]
  },
  {
   "cell_type": "code",
   "execution_count": 21,
   "id": "654b7d49",
   "metadata": {},
   "outputs": [
    {
     "data": {
      "text/plain": [
       "{'name': 'fasi', 'sub': 'msccs', 'college': 'cu campus'}"
      ]
     },
     "execution_count": 21,
     "metadata": {},
     "output_type": "execute_result"
    }
   ],
   "source": [
    "del d['age']\n",
    "d"
   ]
  },
  {
   "cell_type": "code",
   "execution_count": 23,
   "id": "c2290846",
   "metadata": {},
   "outputs": [
    {
     "name": "stdout",
     "output_type": "stream",
     "text": [
      "{}\n"
     ]
    }
   ],
   "source": [
    "d.clear()\n",
    "print(d)"
   ]
  },
  {
   "cell_type": "code",
   "execution_count": 24,
   "id": "95955b70",
   "metadata": {},
   "outputs": [],
   "source": [
    "del d"
   ]
  },
  {
   "cell_type": "code",
   "execution_count": 25,
   "id": "6c0f52ef",
   "metadata": {},
   "outputs": [
    {
     "ename": "NameError",
     "evalue": "name 'd' is not defined",
     "output_type": "error",
     "traceback": [
      "\u001b[1;31m---------------------------------------------------------------------------\u001b[0m",
      "\u001b[1;31mNameError\u001b[0m                                 Traceback (most recent call last)",
      "\u001b[1;32m~\\AppData\\Local\\Temp/ipykernel_11764/1152398069.py\u001b[0m in \u001b[0;36m<module>\u001b[1;34m\u001b[0m\n\u001b[1;32m----> 1\u001b[1;33m \u001b[0mprint\u001b[0m\u001b[1;33m(\u001b[0m\u001b[0md\u001b[0m\u001b[1;33m)\u001b[0m\u001b[1;33m\u001b[0m\u001b[1;33m\u001b[0m\u001b[0m\n\u001b[0m",
      "\u001b[1;31mNameError\u001b[0m: name 'd' is not defined"
     ]
    }
   ],
   "source": [
    "print(d)"
   ]
  },
  {
   "cell_type": "code",
   "execution_count": 28,
   "id": "6f686321",
   "metadata": {},
   "outputs": [
    {
     "name": "stdout",
     "output_type": "stream",
     "text": [
      "msccs\n",
      "{'name': 'msccs', 'age': 22}\n"
     ]
    }
   ],
   "source": [
    "d={'name':\"fasi\",\"age\":22,\"name\":\"msccs\"}\n",
    "print(d['name'])\n",
    "print(d)"
   ]
  },
  {
   "cell_type": "code",
   "execution_count": 39,
   "id": "6dd75a41",
   "metadata": {},
   "outputs": [
    {
     "data": {
      "text/plain": [
       "'fasi'"
      ]
     },
     "execution_count": 39,
     "metadata": {},
     "output_type": "execute_result"
    }
   ],
   "source": [
    "d={('name','age'):\"fasi\",\"age\":22,\"name\":\"msccs\"}\n",
    "d['name','age']"
   ]
  },
  {
   "cell_type": "code",
   "execution_count": null,
   "id": "fc2a3ba9",
   "metadata": {},
   "outputs": [],
   "source": []
  }
 ],
 "metadata": {
  "kernelspec": {
   "display_name": "Python 3 (ipykernel)",
   "language": "python",
   "name": "python3"
  },
  "language_info": {
   "codemirror_mode": {
    "name": "ipython",
    "version": 3
   },
   "file_extension": ".py",
   "mimetype": "text/x-python",
   "name": "python",
   "nbconvert_exporter": "python",
   "pygments_lexer": "ipython3",
   "version": "3.9.7"
  }
 },
 "nbformat": 4,
 "nbformat_minor": 5
}
