{
 "cells": [
  {
   "cell_type": "code",
   "execution_count": 2,
   "id": "a7f77040",
   "metadata": {},
   "outputs": [
    {
     "data": {
      "text/plain": [
       "(6, 8, 9, 20)"
      ]
     },
     "execution_count": 2,
     "metadata": {},
     "output_type": "execute_result"
    }
   ],
   "source": [
    "t1=(6,8,9)\n",
    "t1+(20,)"
   ]
  },
  {
   "cell_type": "code",
   "execution_count": 3,
   "id": "5bbf086c",
   "metadata": {},
   "outputs": [
    {
     "data": {
      "text/plain": [
       "(6, 8, 9, 6, 8, 9, 6, 8, 9)"
      ]
     },
     "execution_count": 3,
     "metadata": {},
     "output_type": "execute_result"
    }
   ],
   "source": [
    "t1*3\n"
   ]
  },
  {
   "cell_type": "code",
   "execution_count": 19,
   "id": "5b143a0c",
   "metadata": {},
   "outputs": [
    {
     "data": {
      "text/plain": [
       "tuple"
      ]
     },
     "execution_count": 19,
     "metadata": {},
     "output_type": "execute_result"
    }
   ],
   "source": [
    "fd=(\"rice\",\"dosa\",\"idle\")\n",
    "mf=list(fd)\n",
    "mf[1]=\"paneer\"\n",
    "fd=tuple(mf)\n",
    "fd\n",
    "#t=tuple(6,7,9)\n",
    "type(fd)"
   ]
  },
  {
   "cell_type": "code",
   "execution_count": 8,
   "id": "6297c18d",
   "metadata": {},
   "outputs": [
    {
     "data": {
      "text/plain": [
       "8"
      ]
     },
     "execution_count": 8,
     "metadata": {},
     "output_type": "execute_result"
    }
   ],
   "source": [
    "val=(4,8,9)\n",
    "a,b,c=val\n",
    "b"
   ]
  },
  {
   "cell_type": "code",
   "execution_count": 23,
   "id": "108a45fa",
   "metadata": {},
   "outputs": [
    {
     "name": "stdout",
     "output_type": "stream",
     "text": [
      "(1, 6.5, 10, 9.8)\n"
     ]
    }
   ],
   "source": [
    "t1=(1,6.5,10,9.8)\n",
    "print(t)"
   ]
  },
  {
   "cell_type": "code",
   "execution_count": 26,
   "id": "bfbedf0c",
   "metadata": {},
   "outputs": [
    {
     "name": "stdout",
     "output_type": "stream",
     "text": [
      "('a', 1, 'b', 2, 'c', 3)\n"
     ]
    }
   ],
   "source": [
    "t2=('a',1,'b',2,'c',3)\n",
    "print(t2)"
   ]
  },
  {
   "cell_type": "code",
   "execution_count": 27,
   "id": "2409a02e",
   "metadata": {},
   "outputs": [
    {
     "name": "stdout",
     "output_type": "stream",
     "text": [
      "('red', 'green', 'blue')\n"
     ]
    }
   ],
   "source": [
    "t3=(\"red\",\"green\",\"blue\")\n",
    "print(t3)"
   ]
  },
  {
   "cell_type": "code",
   "execution_count": 33,
   "id": "a359b1ec",
   "metadata": {},
   "outputs": [
    {
     "data": {
      "text/plain": [
       "tuple"
      ]
     },
     "execution_count": 33,
     "metadata": {},
     "output_type": "execute_result"
    }
   ],
   "source": [
    "t4=(67,)\n",
    "t5=56,\n",
    "type(t4)\n",
    "type(t5)"
   ]
  },
  {
   "cell_type": "code",
   "execution_count": 36,
   "id": "9ff0dc20",
   "metadata": {},
   "outputs": [
    {
     "name": "stdout",
     "output_type": "stream",
     "text": [
      "(10, 20, (30, 40, 50), 60, 70)\n",
      "20\n",
      "40\n"
     ]
    }
   ],
   "source": [
    "nt=(10,20,(30,40,50),60,70)\n",
    "print(nt)\n",
    "print(nt[1])\n",
    "print(nt[2][1])"
   ]
  },
  {
   "cell_type": "code",
   "execution_count": 37,
   "id": "88ab0fb2",
   "metadata": {},
   "outputs": [
    {
     "name": "stdout",
     "output_type": "stream",
     "text": [
      "('h', 'e', 'l', 'l', 'o')\n"
     ]
    }
   ],
   "source": [
    "t6=tuple(\"hello\")\n",
    "print(t6)"
   ]
  },
  {
   "cell_type": "code",
   "execution_count": 41,
   "id": "92762962",
   "metadata": {},
   "outputs": [
    {
     "name": "stdout",
     "output_type": "stream",
     "text": [
      "<class 'tuple'>\n",
      "(67, 90, 44, 23)\n"
     ]
    }
   ],
   "source": [
    "ls=[67,90,44,23]\n",
    "tp=tuple(ls)\n",
    "print(type(tp))\n",
    "print(tp)"
   ]
  },
  {
   "cell_type": "code",
   "execution_count": 44,
   "id": "a7fe5608",
   "metadata": {},
   "outputs": [
    {
     "name": "stdout",
     "output_type": "stream",
     "text": [
      "enter elements:abcdef\n"
     ]
    }
   ],
   "source": [
    "t7=tuple(input('enter elements:'))"
   ]
  },
  {
   "cell_type": "code",
   "execution_count": 45,
   "id": "73994cd8",
   "metadata": {},
   "outputs": [
    {
     "data": {
      "text/plain": [
       "('a', 'b', 'c', 'd', 'e', 'f')"
      ]
     },
     "execution_count": 45,
     "metadata": {},
     "output_type": "execute_result"
    }
   ],
   "source": [
    "t7"
   ]
  },
  {
   "cell_type": "code",
   "execution_count": 46,
   "id": "88eab70d",
   "metadata": {},
   "outputs": [
    {
     "name": "stdout",
     "output_type": "stream",
     "text": [
      "enter tuple elements:67,'anu','sinu',89\n"
     ]
    }
   ],
   "source": [
    "tup=eval(input(\"enter tuple elements:\"))"
   ]
  },
  {
   "cell_type": "code",
   "execution_count": 47,
   "id": "daa9119e",
   "metadata": {},
   "outputs": [
    {
     "data": {
      "text/plain": [
       "(67, 'anu', 'sinu', 89)"
      ]
     },
     "execution_count": 47,
     "metadata": {},
     "output_type": "execute_result"
    }
   ],
   "source": [
    "tup"
   ]
  },
  {
   "cell_type": "code",
   "execution_count": 1,
   "id": "417db15d",
   "metadata": {},
   "outputs": [
    {
     "name": "stdout",
     "output_type": "stream",
     "text": [
      "orange\n",
      "('apple', 'orange')\n",
      "('apple', 'pineapple')\n"
     ]
    }
   ],
   "source": [
    "fr=(\"mango\",\"apple\",\"pineapple\",\"orange\")\n",
    "print(fr[-1])\n",
    "print(fr[1:5:2])\n",
    "print(fr[-3:-1])"
   ]
  },
  {
   "cell_type": "code",
   "execution_count": 57,
   "id": "d19bd017",
   "metadata": {},
   "outputs": [
    {
     "ename": "TypeError",
     "evalue": "'tuple' object does not support item assignment",
     "output_type": "error",
     "traceback": [
      "\u001b[1;31m---------------------------------------------------------------------------\u001b[0m",
      "\u001b[1;31mTypeError\u001b[0m                                 Traceback (most recent call last)",
      "\u001b[1;32m~\\AppData\\Local\\Temp/ipykernel_6500/2306252915.py\u001b[0m in \u001b[0;36m<module>\u001b[1;34m\u001b[0m\n\u001b[1;32m----> 1\u001b[1;33m \u001b[0mfr\u001b[0m\u001b[1;33m[\u001b[0m\u001b[1;36m1\u001b[0m\u001b[1;33m]\u001b[0m\u001b[1;33m=\u001b[0m\u001b[1;34m\"cherry\"\u001b[0m\u001b[1;33m\u001b[0m\u001b[1;33m\u001b[0m\u001b[0m\n\u001b[0m",
      "\u001b[1;31mTypeError\u001b[0m: 'tuple' object does not support item assignment"
     ]
    }
   ],
   "source": [
    "fr[1]=\"cherry\""
   ]
  },
  {
   "cell_type": "code",
   "execution_count": 59,
   "id": "f1e3f312",
   "metadata": {},
   "outputs": [
    {
     "name": "stdout",
     "output_type": "stream",
     "text": [
      "index: 0   MSC CS\n",
      "index: 1   MSC CHEM\n",
      "index: 2   MBA\n",
      "index: 3   MCA\n",
      "index: 4   M COM\n"
     ]
    }
   ],
   "source": [
    "qual=(\"MSC CS\",\"MSC CHEM\",\"MBA\",\"MCA\",\"M COM\")\n",
    "for i in range(len(qual)):\n",
    "    print(\"index:\",i,\" \",qual[i])"
   ]
  },
  {
   "cell_type": "code",
   "execution_count": 62,
   "id": "6684deb6",
   "metadata": {},
   "outputs": [
    {
     "name": "stdout",
     "output_type": "stream",
     "text": [
      "(10, 20, 30, 'a', 'n', 'u')\n"
     ]
    }
   ],
   "source": [
    "t1=(10,20,30)\n",
    "t2=tuple(\"anu\")\n",
    "t3=t1+t2\n",
    "print(t3)"
   ]
  },
  {
   "cell_type": "code",
   "execution_count": 63,
   "id": "6d2ed64b",
   "metadata": {},
   "outputs": [
    {
     "ename": "TypeError",
     "evalue": "can only concatenate tuple (not \"int\") to tuple",
     "output_type": "error",
     "traceback": [
      "\u001b[1;31m---------------------------------------------------------------------------\u001b[0m",
      "\u001b[1;31mTypeError\u001b[0m                                 Traceback (most recent call last)",
      "\u001b[1;32m~\\AppData\\Local\\Temp/ipykernel_6500/2405888046.py\u001b[0m in \u001b[0;36m<module>\u001b[1;34m\u001b[0m\n\u001b[1;32m----> 1\u001b[1;33m \u001b[0mt3\u001b[0m\u001b[1;33m+\u001b[0m\u001b[1;36m20\u001b[0m\u001b[1;33m\u001b[0m\u001b[1;33m\u001b[0m\u001b[0m\n\u001b[0m",
      "\u001b[1;31mTypeError\u001b[0m: can only concatenate tuple (not \"int\") to tuple"
     ]
    }
   ],
   "source": [
    "t3+20"
   ]
  },
  {
   "cell_type": "code",
   "execution_count": 65,
   "id": "9d2fa69d",
   "metadata": {},
   "outputs": [
    {
     "data": {
      "text/plain": [
       "(10, 20, 30, 'a', 'n', 'u', 20)"
      ]
     },
     "execution_count": 65,
     "metadata": {},
     "output_type": "execute_result"
    }
   ],
   "source": [
    "t3+(20,)"
   ]
  },
  {
   "cell_type": "code",
   "execution_count": 67,
   "id": "3387d5cd",
   "metadata": {},
   "outputs": [
    {
     "data": {
      "text/plain": [
       "('fa', 'si', 'fa', 'si', 'fa', 'si')"
      ]
     },
     "execution_count": 67,
     "metadata": {},
     "output_type": "execute_result"
    }
   ],
   "source": [
    "tt=(\"fa\",\"si\")\n",
    "tt*3"
   ]
  },
  {
   "cell_type": "code",
   "execution_count": 2,
   "id": "9a4d4a57",
   "metadata": {},
   "outputs": [
    {
     "name": "stdout",
     "output_type": "stream",
     "text": [
      "(50, 88)\n",
      "(20, 30, 67, 50, 88)\n",
      "(50, 88, 12, 55)\n",
      "(10, 20, 30, 67)\n",
      "(72, 48, 55, 12, 88, 50, 67, 30, 20, 10)\n",
      "(72, 55, 88, 67, 20)\n",
      "(67, 88, 55, 72)\n",
      "(10, 67, 12, 72)\n"
     ]
    }
   ],
   "source": [
    "dd=(10,20,30,67,50,88,12,55,48,72)\n",
    "dt=dd[4:-4]\n",
    "print(dt)\n",
    "print(dd[1:6])\n",
    "print(dd[4:-2])\n",
    "print(dd[-15:4])\n",
    "print(dd[::-1])\n",
    "print(dd[::-2])\n",
    "print(dd[3:10:2])\n",
    "print(dd[::3])"
   ]
  },
  {
   "cell_type": "code",
   "execution_count": 9,
   "id": "b276e148",
   "metadata": {},
   "outputs": [
    {
     "name": "stdout",
     "output_type": "stream",
     "text": [
      "sub1: (45, 88, 78, 12)\n",
      "sub: (90, 78)\n",
      "<class 'tuple'>\n",
      "(90, 78, 90, 78, 90, 78)\n"
     ]
    },
    {
     "data": {
      "text/plain": [
       "(88, 78, 12, 33, 77)"
      ]
     },
     "execution_count": 9,
     "metadata": {},
     "output_type": "execute_result"
    }
   ],
   "source": [
    "tp1=(45,90,88,34,78,100,12)\n",
    "sub1=tp1[::2]\n",
    "sub=tp1[1::3]\n",
    "print('sub1:',sub1)\n",
    "print('sub:',sub)\n",
    "print(type(sub))\n",
    "print(sub*3)\n",
    "tp1[2::2]+(33,77)"
   ]
  },
  {
   "cell_type": "code",
   "execution_count": 25,
   "id": "4a9cf397",
   "metadata": {},
   "outputs": [
    {
     "name": "stdout",
     "output_type": "stream",
     "text": [
      "False\n",
      "True\n",
      "False\n"
     ]
    }
   ],
   "source": [
    "a=('anu','sinu')\n",
    "b=('tinu','minu')\n",
    "c=('anu','sinu')\n",
    "print(a==b)\n",
    "print(a==c)\n",
    "print(a>b)"
   ]
  },
  {
   "cell_type": "code",
   "execution_count": 26,
   "id": "51c0b987",
   "metadata": {},
   "outputs": [
    {
     "name": "stdout",
     "output_type": "stream",
     "text": [
      "True\n"
     ]
    }
   ],
   "source": [
    "a=(100,67)\n",
    "b=(100.0,67.0)\n",
    "print(a==b)"
   ]
  },
  {
   "cell_type": "code",
   "execution_count": 27,
   "id": "43742fcb",
   "metadata": {},
   "outputs": [],
   "source": [
    "del(b)\n",
    "#print(b)"
   ]
  },
  {
   "cell_type": "code",
   "execution_count": 38,
   "id": "4ac71340",
   "metadata": {},
   "outputs": [
    {
     "name": "stdout",
     "output_type": "stream",
     "text": [
      "length: 7\n",
      "max: 100\n",
      "min: 33\n",
      "index: 3\n",
      "count(99): 2\n",
      "count(67): 1\n",
      "count(12): 0\n"
     ]
    }
   ],
   "source": [
    "tp=(34,99,80,67,33,100,99)\n",
    "print('length:',len(tp))\n",
    "print('max:',max(tp))\n",
    "print('min:',min(tp))\n",
    "print('index:',tp.index(67))\n",
    "print('count(99):',tp.count(99))\n",
    "print('count(67):',tp.count(67))\n",
    "print('count(12):',tp.count(12))"
   ]
  },
  {
   "cell_type": "code",
   "execution_count": 44,
   "id": "7329b0c2",
   "metadata": {},
   "outputs": [
    {
     "name": "stdout",
     "output_type": "stream",
     "text": [
      "length: 6\n",
      "max: tinu\n",
      "min: Anu\n",
      "index: 2\n",
      "count(99): 2\n",
      "count(67): 0\n",
      "count(12): 0\n"
     ]
    }
   ],
   "source": [
    "tp=('tinu','Anu','minu','Msc CS','abi','Anu')\n",
    "print('length:',len(tp))\n",
    "print('max:',max(tp))\n",
    "print('min:',min(tp))\n",
    "print('index:',tp.index('minu'))\n",
    "print('count(99):',tp.count('Anu'))\n",
    "#print('count(67):',tp.count(67))\n",
    "#print('count(12):',tp.count(12))"
   ]
  },
  {
   "cell_type": "code",
   "execution_count": 46,
   "id": "1cd40710",
   "metadata": {},
   "outputs": [
    {
     "name": "stdout",
     "output_type": "stream",
     "text": [
      "('i', ' ', 'a', 'm', ' ', 'f', 'a', 'z', 'e', 'e', 'h', 'a', ' ', 'k', 'e', 'n', 'n', 'a', 'z')\n"
     ]
    }
   ],
   "source": [
    "tup=tuple('i am fazeeha kennaz')\n",
    "print(tup)"
   ]
  },
  {
   "cell_type": "code",
   "execution_count": 49,
   "id": "b18c043e",
   "metadata": {},
   "outputs": [
    {
     "name": "stdout",
     "output_type": "stream",
     "text": [
      "(56, 88, 34, 100)\n"
     ]
    }
   ],
   "source": [
    "tup=tuple([56,88,34,100])\n",
    "print(tup)"
   ]
  },
  {
   "cell_type": "code",
   "execution_count": 50,
   "id": "0568fadc",
   "metadata": {},
   "outputs": [
    {
     "name": "stdout",
     "output_type": "stream",
     "text": [
      "('id1', 'id2', 'id3')\n"
     ]
    }
   ],
   "source": [
    "tup=tuple({'id1':123,'id2':124,'id3':125})\n",
    "print(tup)"
   ]
  },
  {
   "cell_type": "code",
   "execution_count": 53,
   "id": "74920b31",
   "metadata": {},
   "outputs": [
    {
     "name": "stdout",
     "output_type": "stream",
     "text": [
      "20\n",
      "(10, 20, 20)\n"
     ]
    }
   ],
   "source": [
    "val=(10,20,30)\n",
    "a,b,c=val\n",
    "print(b)\n",
    "t=(a,b,b)\n",
    "print(t)"
   ]
  },
  {
   "cell_type": "code",
   "execution_count": 58,
   "id": "333e848f",
   "metadata": {},
   "outputs": [
    {
     "name": "stdout",
     "output_type": "stream",
     "text": [
      "('fried chicken', 'juice', 'ice cream', 'biriyani')\n"
     ]
    }
   ],
   "source": [
    "fd=('fried chicken','chocolate','ice cream','biriyani')\n",
    "my=list(fd)\n",
    "#print(type(fd))\n",
    "#print(type(my))\n",
    "my[1]='juice'\n",
    "fd=tuple(my)\n",
    "print(fd)"
   ]
  },
  {
   "cell_type": "code",
   "execution_count": null,
   "id": "466ced86",
   "metadata": {},
   "outputs": [],
   "source": []
  }
 ],
 "metadata": {
  "kernelspec": {
   "display_name": "Python 3 (ipykernel)",
   "language": "python",
   "name": "python3"
  },
  "language_info": {
   "codemirror_mode": {
    "name": "ipython",
    "version": 3
   },
   "file_extension": ".py",
   "mimetype": "text/x-python",
   "name": "python",
   "nbconvert_exporter": "python",
   "pygments_lexer": "ipython3",
   "version": "3.9.7"
  }
 },
 "nbformat": 4,
 "nbformat_minor": 5
}
