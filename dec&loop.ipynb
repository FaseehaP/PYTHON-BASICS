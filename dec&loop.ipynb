{
 "cells": [
  {
   "cell_type": "code",
   "execution_count": 2,
   "id": "b92dec98",
   "metadata": {},
   "outputs": [
    {
     "name": "stdout",
     "output_type": "stream",
     "text": [
      "a>b\n"
     ]
    }
   ],
   "source": [
    "a=300\n",
    "b=60\n",
    "if a>b :\n",
    "    print('a>b')\n",
    "else :\n",
    "    print('b>a')"
   ]
  },
  {
   "cell_type": "code",
   "execution_count": 6,
   "id": "380ba1b6",
   "metadata": {},
   "outputs": [
    {
     "name": "stdout",
     "output_type": "stream",
     "text": [
      "total: 2000\n",
      "discount amount: 200.0\n",
      "grand total: 1800.0\n"
     ]
    }
   ],
   "source": [
    "tot=2000#int(input('enter the total'))\n",
    "if tot>1000:\n",
    "    gd=tot*(.1)\n",
    "    print('total:',tot)\n",
    "    print('discount amount:',gd)\n",
    "    print('grand total:',tot-gd)\n",
    "else:\n",
    "    print('you dont have any discount...')\n",
    "    print('grand total:',tot)"
   ]
  },
  {
   "cell_type": "code",
   "execution_count": 16,
   "id": "fcc45a8b",
   "metadata": {},
   "outputs": [
    {
     "name": "stdout",
     "output_type": "stream",
     "text": [
      "total: 5000\n",
      "discount amount: 1500.0\n",
      "grand total: 3500.0\n"
     ]
    }
   ],
   "source": [
    "tot=5000#int(input('enter the total'))\n",
    "if tot>3000:\n",
    "    gd=tot*(.3)\n",
    "    print('total:',tot)\n",
    "    print('discount amount:',gd)\n",
    "    print('grand total:',tot-gd)\n",
    "elif tot>2000 & tot<3000:\n",
    "    gd=tot*(.2)\n",
    "    print('total:',tot)\n",
    "    print('discount amount:',gd)\n",
    "    print('grand total:',tot-gd)\n",
    "elif tot>1000 & tot<2000:\n",
    "    gd=tot*(.1)\n",
    "    print('total:',tot)\n",
    "    print('discount amount:',gd)\n",
    "    print('grand total:',tot-gd)\n",
    "else:\n",
    "    print('you dont have any discount...')\n",
    "    print('grand total:',tot)"
   ]
  },
  {
   "cell_type": "code",
   "execution_count": 27,
   "id": "555ac22b",
   "metadata": {},
   "outputs": [
    {
     "name": "stdout",
     "output_type": "stream",
     "text": [
      "mul= 2100\n"
     ]
    }
   ],
   "source": [
    "a=70\n",
    "b=30\n",
    "op='*'\n",
    "if op=='+':\n",
    "    c=a+b\n",
    "    print('sum=',c)\n",
    "elif op=='-':\n",
    "    c=a-b\n",
    "    print('diff=',c)\n",
    "elif op=='*':\n",
    "    c=a*b\n",
    "    print('mul=',c)\n",
    "elif op=='/':\n",
    "    c=a/b\n",
    "    print('div=',c)\n",
    "elif op=='%':\n",
    "    c=a%b\n",
    "    print('rem=',c)\n",
    "else:\n",
    "    print(\"invalid operator\")\n",
    "    "
   ]
  },
  {
   "cell_type": "code",
   "execution_count": 30,
   "id": "aafb051c",
   "metadata": {},
   "outputs": [
    {
     "name": "stdout",
     "output_type": "stream",
     "text": [
      "10\n",
      "11\n",
      "12\n",
      "13\n",
      "14\n",
      "15\n",
      "16\n",
      "17\n",
      "18\n",
      "19\n",
      "20\n"
     ]
    }
   ],
   "source": [
    "for i in range(10,21):\n",
    "    print(i)"
   ]
  },
  {
   "cell_type": "code",
   "execution_count": 34,
   "id": "7ab13978",
   "metadata": {},
   "outputs": [
    {
     "name": "stdout",
     "output_type": "stream",
     "text": [
      "a\n",
      "b\n",
      "c\n",
      "d\n"
     ]
    }
   ],
   "source": [
    "li=['a','b','c','d']\n",
    "for i in li:\n",
    "    print(i)"
   ]
  },
  {
   "cell_type": "code",
   "execution_count": 49,
   "id": "94aef478",
   "metadata": {},
   "outputs": [
    {
     "name": "stdout",
     "output_type": "stream",
     "text": [
      "apple\n"
     ]
    }
   ],
   "source": [
    "fru=[\"apple\",\"mango\",\"pineapple\",\"watermelone\",\"orange\",\"grape\",\"lemon\"]\n",
    "for i in fru:\n",
    "    if i=='apple':\n",
    "        print(i)\n"
   ]
  },
  {
   "cell_type": "code",
   "execution_count": 50,
   "id": "254f055e",
   "metadata": {},
   "outputs": [
    {
     "name": "stdout",
     "output_type": "stream",
     "text": [
      "10\n",
      "11\n",
      "12\n",
      "13\n",
      "14\n",
      "15\n",
      "16\n",
      "17\n",
      "18\n",
      "19\n",
      "20\n",
      "21\n",
      "22\n",
      "23\n",
      "24\n",
      "25\n",
      "26\n",
      "27\n",
      "28\n",
      "29\n",
      "30\n",
      "31\n",
      "32\n",
      "33\n",
      "34\n",
      "35\n",
      "36\n",
      "37\n",
      "38\n",
      "39\n",
      "40\n",
      "41\n",
      "42\n",
      "43\n",
      "44\n",
      "45\n",
      "46\n",
      "47\n",
      "48\n",
      "49\n",
      "50\n",
      "51\n",
      "52\n",
      "53\n",
      "54\n",
      "55\n",
      "56\n",
      "57\n",
      "58\n",
      "59\n",
      "60\n",
      "61\n",
      "62\n",
      "63\n",
      "64\n",
      "65\n",
      "66\n",
      "67\n",
      "68\n",
      "69\n",
      "70\n",
      "71\n",
      "72\n",
      "73\n",
      "74\n",
      "75\n",
      "76\n",
      "77\n",
      "78\n",
      "79\n",
      "80\n",
      "81\n",
      "82\n",
      "83\n",
      "84\n",
      "85\n",
      "86\n",
      "87\n",
      "88\n",
      "89\n",
      "90\n",
      "91\n",
      "92\n",
      "93\n",
      "94\n",
      "95\n",
      "96\n",
      "97\n",
      "98\n",
      "99\n"
     ]
    }
   ],
   "source": [
    "for i in range(10,101):\n",
    "    print(i)"
   ]
  },
  {
   "cell_type": "code",
   "execution_count": 59,
   "id": "bcbeb4b8",
   "metadata": {},
   "outputs": [
    {
     "name": "stdout",
     "output_type": "stream",
     "text": [
      "even numbers \n",
      "10\n",
      "20\n",
      "30\n",
      "40\n",
      "50\n",
      "60\n",
      "70\n",
      "80\n",
      "90\n",
      "100\n"
     ]
    }
   ],
   "source": [
    "print(\"even numbers \")\n",
    "for i in range(10,101,10):\n",
    "    print(i)"
   ]
  },
  {
   "cell_type": "code",
   "execution_count": 56,
   "id": "22443217",
   "metadata": {},
   "outputs": [
    {
     "name": "stdout",
     "output_type": "stream",
     "text": [
      "odd numbers \n",
      "11\n",
      "13\n",
      "15\n",
      "17\n",
      "19\n",
      "21\n",
      "23\n",
      "25\n",
      "27\n",
      "29\n",
      "31\n",
      "33\n",
      "35\n",
      "37\n",
      "39\n",
      "41\n",
      "43\n",
      "45\n",
      "47\n",
      "49\n",
      "51\n",
      "53\n",
      "55\n",
      "57\n",
      "59\n",
      "61\n",
      "63\n",
      "65\n",
      "67\n",
      "69\n",
      "71\n",
      "73\n",
      "75\n",
      "77\n",
      "79\n",
      "81\n",
      "83\n",
      "85\n",
      "87\n",
      "89\n",
      "91\n",
      "93\n",
      "95\n",
      "97\n",
      "99\n"
     ]
    }
   ],
   "source": [
    "print(\"odd numbers \")\n",
    "for i in range(10,101):\n",
    "    if(i%2==1):\n",
    "        print(i)"
   ]
  },
  {
   "cell_type": "code",
   "execution_count": 84,
   "id": "e0629c89",
   "metadata": {},
   "outputs": [
    {
     "name": "stdout",
     "output_type": "stream",
     "text": [
      "factorial: 720\n"
     ]
    }
   ],
   "source": [
    "f=1\n",
    "n=6\n",
    "for i in range(1,n+1):\n",
    "    f=f*i\n",
    "print('factorial:',f)"
   ]
  },
  {
   "cell_type": "code",
   "execution_count": 83,
   "id": "81cba1e4",
   "metadata": {},
   "outputs": [
    {
     "name": "stdout",
     "output_type": "stream",
     "text": [
      "factorial: 120\n"
     ]
    }
   ],
   "source": [
    "f=1\n",
    "n=5\n",
    "for i in range(n,1,-1):\n",
    "    f=f*i\n",
    "print('factorial:',f)"
   ]
  },
  {
   "cell_type": "code",
   "execution_count": 93,
   "id": "7f347ec5",
   "metadata": {},
   "outputs": [
    {
     "name": "stdout",
     "output_type": "stream",
     "text": [
      "fibonacci series:\n",
      "0\n",
      "1\n",
      "1\n",
      "2\n",
      "3\n",
      "5\n",
      "8\n"
     ]
    }
   ],
   "source": [
    "f1=-1\n",
    "f2=1\n",
    "n=7\n",
    "print('fibonacci series:')\n",
    "for i in range(n):\n",
    "    f3=f1+f2\n",
    "    print(f3)\n",
    "    f1=f2\n",
    "    f2=f3"
   ]
  },
  {
   "cell_type": "code",
   "execution_count": 2,
   "id": "0ad2a35e",
   "metadata": {},
   "outputs": [
    {
     "name": "stdout",
     "output_type": "stream",
     "text": [
      "1\n",
      "2\n",
      "3\n",
      "4\n",
      "5\n"
     ]
    }
   ],
   "source": [
    "i=1\n",
    "while(i<10):\n",
    "    print(i)\n",
    "    if(i==5):\n",
    "        break\n",
    "    i=i+1"
   ]
  },
  {
   "cell_type": "code",
   "execution_count": 8,
   "id": "43dddab5",
   "metadata": {},
   "outputs": [
    {
     "name": "stdout",
     "output_type": "stream",
     "text": [
      "2\n",
      "4\n",
      "6\n",
      "8\n",
      "10\n",
      "12\n",
      "14\n",
      "16\n",
      "18\n",
      "20\n"
     ]
    }
   ],
   "source": [
    "n=20\n",
    "i=2\n",
    "while(i<=n):\n",
    "    print(i)\n",
    "    i=i+2"
   ]
  },
  {
   "cell_type": "code",
   "execution_count": 9,
   "id": "3ea4ed43",
   "metadata": {},
   "outputs": [
    {
     "name": "stdout",
     "output_type": "stream",
     "text": [
      "1\n",
      "3\n",
      "5\n",
      "7\n",
      "9\n",
      "11\n",
      "13\n",
      "15\n",
      "17\n",
      "19\n"
     ]
    }
   ],
   "source": [
    "n=20\n",
    "i=1\n",
    "while(i<=n):\n",
    "    if(i%2==1):\n",
    "        print(i)\n",
    "    i=i+1"
   ]
  },
  {
   "cell_type": "code",
   "execution_count": 2,
   "id": "83b8fe2f",
   "metadata": {},
   "outputs": [
    {
     "name": "stdout",
     "output_type": "stream",
     "text": [
      "factorial: 120\n"
     ]
    }
   ],
   "source": [
    "f=1\n",
    "#n=10\n",
    "i=1\n",
    "while(i<=5):\n",
    "    f=f*i\n",
    "    i=i+1\n",
    "print('factorial:',f)"
   ]
  },
  {
   "cell_type": "code",
   "execution_count": null,
   "id": "d86f0c7f",
   "metadata": {},
   "outputs": [],
   "source": []
  }
 ],
 "metadata": {
  "kernelspec": {
   "display_name": "Python 3 (ipykernel)",
   "language": "python",
   "name": "python3"
  },
  "language_info": {
   "codemirror_mode": {
    "name": "ipython",
    "version": 3
   },
   "file_extension": ".py",
   "mimetype": "text/x-python",
   "name": "python",
   "nbconvert_exporter": "python",
   "pygments_lexer": "ipython3",
   "version": "3.9.7"
  }
 },
 "nbformat": 4,
 "nbformat_minor": 5
}
