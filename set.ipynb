{
 "cells": [
  {
   "cell_type": "code",
   "execution_count": 14,
   "id": "2ba168c4",
   "metadata": {},
   "outputs": [
    {
     "name": "stdout",
     "output_type": "stream",
     "text": [
      "{'i', 'b', 'a'}\n",
      "<class 'set'>\n"
     ]
    }
   ],
   "source": [
    "s={'a','b','i'}\n",
    "print(s)\n",
    "print(type(s))"
   ]
  },
  {
   "cell_type": "code",
   "execution_count": 45,
   "id": "4040b878",
   "metadata": {},
   "outputs": [
    {
     "name": "stdout",
     "output_type": "stream",
     "text": [
      "{90, 67, 44, 23}\n"
     ]
    }
   ],
   "source": [
    "s1=set([23,67,90,44])\n",
    "print(s1)"
   ]
  },
  {
   "cell_type": "code",
   "execution_count": 46,
   "id": "d9859f09",
   "metadata": {},
   "outputs": [
    {
     "name": "stdout",
     "output_type": "stream",
     "text": [
      "{67, 100, 44, 23, 90}\n"
     ]
    }
   ],
   "source": [
    "s1.add(100)\n",
    "print(s1)"
   ]
  },
  {
   "cell_type": "code",
   "execution_count": 47,
   "id": "74c595a2",
   "metadata": {},
   "outputs": [
    {
     "name": "stdout",
     "output_type": "stream",
     "text": [
      "{67, 100, 70, 44, 55, 23, 90}\n"
     ]
    }
   ],
   "source": [
    "s1.update([70,100,23,55])\n",
    "print(s1)"
   ]
  },
  {
   "cell_type": "code",
   "execution_count": 48,
   "id": "774b24b1",
   "metadata": {},
   "outputs": [
    {
     "name": "stdout",
     "output_type": "stream",
     "text": [
      "{67, 100, 23, 70, 55, 90, 44}\n"
     ]
    }
   ],
   "source": [
    "s2=s1.copy()\n",
    "print(s2)"
   ]
  },
  {
   "cell_type": "code",
   "execution_count": 49,
   "id": "cba13d54",
   "metadata": {},
   "outputs": [
    {
     "name": "stdout",
     "output_type": "stream",
     "text": [
      "True\n"
     ]
    }
   ],
   "source": [
    "print(23 in s2)"
   ]
  },
  {
   "cell_type": "code",
   "execution_count": 50,
   "id": "2f73f6fc",
   "metadata": {},
   "outputs": [
    {
     "name": "stdout",
     "output_type": "stream",
     "text": [
      "False\n"
     ]
    }
   ],
   "source": [
    "print(66 in s2)"
   ]
  },
  {
   "cell_type": "code",
   "execution_count": 51,
   "id": "d26235ec",
   "metadata": {},
   "outputs": [
    {
     "name": "stdout",
     "output_type": "stream",
     "text": [
      "True\n"
     ]
    }
   ],
   "source": [
    "print(6 not in s2)"
   ]
  },
  {
   "cell_type": "code",
   "execution_count": 52,
   "id": "04e4418a",
   "metadata": {},
   "outputs": [
    {
     "name": "stdout",
     "output_type": "stream",
     "text": [
      "True\n",
      "True\n"
     ]
    }
   ],
   "source": [
    "s3={2,4,6,8}\n",
    "s4={6,8}\n",
    "print(s4.issubset(s3))\n",
    "print(s3.issuperset(s4))"
   ]
  },
  {
   "cell_type": "code",
   "execution_count": 53,
   "id": "9cd18fef",
   "metadata": {},
   "outputs": [
    {
     "name": "stdout",
     "output_type": "stream",
     "text": [
      "True\n",
      "False\n",
      "True\n"
     ]
    }
   ],
   "source": [
    "s5={100,55,70}\n",
    "print(s5<=s2)\n",
    "print(s5>=s2)\n",
    "print(s2>=s5)"
   ]
  },
  {
   "cell_type": "code",
   "execution_count": 54,
   "id": "2d5206a6",
   "metadata": {},
   "outputs": [
    {
     "data": {
      "text/plain": [
       "{23, 44, 55, 67, 70, 90, 100}"
      ]
     },
     "execution_count": 54,
     "metadata": {},
     "output_type": "execute_result"
    }
   ],
   "source": [
    "s2"
   ]
  },
  {
   "cell_type": "code",
   "execution_count": 55,
   "id": "d144d551",
   "metadata": {},
   "outputs": [
    {
     "data": {
      "text/plain": [
       "67"
      ]
     },
     "execution_count": 55,
     "metadata": {},
     "output_type": "execute_result"
    }
   ],
   "source": [
    "s2.pop()"
   ]
  },
  {
   "cell_type": "code",
   "execution_count": 56,
   "id": "8299a811",
   "metadata": {},
   "outputs": [
    {
     "data": {
      "text/plain": [
       "{23, 44, 55, 70, 90, 100}"
      ]
     },
     "execution_count": 56,
     "metadata": {},
     "output_type": "execute_result"
    }
   ],
   "source": [
    "s2"
   ]
  },
  {
   "cell_type": "code",
   "execution_count": 57,
   "id": "9199b556",
   "metadata": {},
   "outputs": [
    {
     "name": "stdout",
     "output_type": "stream",
     "text": [
      "{100, 23, 70, 55, 90}\n"
     ]
    }
   ],
   "source": [
    "s2.remove(44)\n",
    "print(s2)"
   ]
  },
  {
   "cell_type": "code",
   "execution_count": 58,
   "id": "c8e5ceca",
   "metadata": {},
   "outputs": [
    {
     "ename": "KeyError",
     "evalue": "22",
     "output_type": "error",
     "traceback": [
      "\u001b[1;31m---------------------------------------------------------------------------\u001b[0m",
      "\u001b[1;31mKeyError\u001b[0m                                  Traceback (most recent call last)",
      "\u001b[1;32m~\\AppData\\Local\\Temp/ipykernel_13036/3081116616.py\u001b[0m in \u001b[0;36m<module>\u001b[1;34m\u001b[0m\n\u001b[1;32m----> 1\u001b[1;33m \u001b[0ms2\u001b[0m\u001b[1;33m.\u001b[0m\u001b[0mremove\u001b[0m\u001b[1;33m(\u001b[0m\u001b[1;36m22\u001b[0m\u001b[1;33m)\u001b[0m\u001b[1;33m\u001b[0m\u001b[1;33m\u001b[0m\u001b[0m\n\u001b[0m",
      "\u001b[1;31mKeyError\u001b[0m: 22"
     ]
    }
   ],
   "source": [
    "s2.remove(22)"
   ]
  },
  {
   "cell_type": "code",
   "execution_count": 59,
   "id": "e97b7f80",
   "metadata": {},
   "outputs": [],
   "source": [
    "s2.clear()\n"
   ]
  },
  {
   "cell_type": "code",
   "execution_count": 60,
   "id": "9bebeca3",
   "metadata": {},
   "outputs": [
    {
     "name": "stdout",
     "output_type": "stream",
     "text": [
      "set()\n"
     ]
    }
   ],
   "source": [
    "print(s2)"
   ]
  },
  {
   "cell_type": "code",
   "execution_count": 62,
   "id": "5c4dce30",
   "metadata": {},
   "outputs": [
    {
     "name": "stdout",
     "output_type": "stream",
     "text": [
      "{'f', 'a', 's', 'e', 'h'}\n"
     ]
    }
   ],
   "source": [
    "s=set(\"faseeha\")\n",
    "print(s)"
   ]
  },
  {
   "cell_type": "code",
   "execution_count": 63,
   "id": "95d7775d",
   "metadata": {},
   "outputs": [
    {
     "name": "stdout",
     "output_type": "stream",
     "text": [
      "f\n",
      "a\n",
      "s\n",
      "e\n",
      "h\n"
     ]
    }
   ],
   "source": [
    "for i in s:\n",
    "    print(i)"
   ]
  },
  {
   "cell_type": "code",
   "execution_count": 68,
   "id": "6a3fd0fa",
   "metadata": {},
   "outputs": [
    {
     "data": {
      "text/plain": [
       "{7, 12, 23, 44, 67, 90}"
      ]
     },
     "execution_count": 68,
     "metadata": {},
     "output_type": "execute_result"
    }
   ],
   "source": [
    "ss={23,67,44,90}\n",
    "sa={44,90,12,7}\n",
    "ss.union(sa)"
   ]
  },
  {
   "cell_type": "code",
   "execution_count": 66,
   "id": "d9bf45fa",
   "metadata": {},
   "outputs": [
    {
     "name": "stdout",
     "output_type": "stream",
     "text": [
      "{67, 7, 44, 12, 23, 90}\n"
     ]
    }
   ],
   "source": [
    "print(ss | sa)"
   ]
  },
  {
   "cell_type": "code",
   "execution_count": 69,
   "id": "1650b39a",
   "metadata": {},
   "outputs": [
    {
     "data": {
      "text/plain": [
       "{44, 90}"
      ]
     },
     "execution_count": 69,
     "metadata": {},
     "output_type": "execute_result"
    }
   ],
   "source": [
    "ss.intersection(sa)"
   ]
  },
  {
   "cell_type": "code",
   "execution_count": 70,
   "id": "1f077323",
   "metadata": {},
   "outputs": [
    {
     "name": "stdout",
     "output_type": "stream",
     "text": [
      "{90, 44}\n"
     ]
    }
   ],
   "source": [
    "print(ss & sa)"
   ]
  },
  {
   "cell_type": "code",
   "execution_count": 72,
   "id": "59077c80",
   "metadata": {},
   "outputs": [
    {
     "data": {
      "text/plain": [
       "{7, 12, 23, 67}"
      ]
     },
     "execution_count": 72,
     "metadata": {},
     "output_type": "execute_result"
    }
   ],
   "source": [
    "ss.symmetric_difference(sa)"
   ]
  },
  {
   "cell_type": "code",
   "execution_count": 73,
   "id": "f77cd2b4",
   "metadata": {},
   "outputs": [
    {
     "data": {
      "text/plain": [
       "{23, 67}"
      ]
     },
     "execution_count": 73,
     "metadata": {},
     "output_type": "execute_result"
    }
   ],
   "source": [
    "ss.difference(sa)"
   ]
  },
  {
   "cell_type": "code",
   "execution_count": 75,
   "id": "0f67b446",
   "metadata": {},
   "outputs": [
    {
     "name": "stdout",
     "output_type": "stream",
     "text": [
      "{90, 44}\n"
     ]
    }
   ],
   "source": [
    "ss.intersection_update(sa)\n",
    "print(ss)"
   ]
  },
  {
   "cell_type": "code",
   "execution_count": 78,
   "id": "cba9dc4e",
   "metadata": {},
   "outputs": [
    {
     "name": "stdout",
     "output_type": "stream",
     "text": [
      "{'s'}\n",
      "{'f'}\n"
     ]
    }
   ],
   "source": [
    "s1=set(\"faseeha\")\n",
    "s2=set(\"faheem\")\n",
    "s3=set(\"finu\")\n",
    "print(set.difference(s1,s2,s3))\n",
    "print(set.intersection(s1,s2,s3))"
   ]
  },
  {
   "cell_type": "code",
   "execution_count": 87,
   "id": "40fcef9b",
   "metadata": {},
   "outputs": [
    {
     "name": "stdout",
     "output_type": "stream",
     "text": [
      "[100, frozenset({88, 34, 67}), 55, 88]\n"
     ]
    }
   ],
   "source": [
    "fs=frozenset([34,67,88])\n",
    "se=([100,fs,55,88])\n",
    "print(se)"
   ]
  },
  {
   "cell_type": "code",
   "execution_count": 88,
   "id": "c8cbcdd6",
   "metadata": {},
   "outputs": [
    {
     "data": {
      "text/plain": [
       "frozenset({88})"
      ]
     },
     "execution_count": 88,
     "metadata": {},
     "output_type": "execute_result"
    }
   ],
   "source": [
    "fs.intersection(se)"
   ]
  },
  {
   "cell_type": "code",
   "execution_count": 91,
   "id": "f08422e7",
   "metadata": {},
   "outputs": [
    {
     "data": {
      "text/plain": [
       "frozenset({34, 67, 88})"
      ]
     },
     "execution_count": 91,
     "metadata": {},
     "output_type": "execute_result"
    }
   ],
   "source": [
    "se[1]"
   ]
  },
  {
   "cell_type": "code",
   "execution_count": 95,
   "id": "fa39fca0",
   "metadata": {},
   "outputs": [
    {
     "name": "stdout",
     "output_type": "stream",
     "text": [
      "{1, 2, 3, 'u', 'a', 'n'}\n"
     ]
    }
   ],
   "source": [
    "s8={1,2,3}\n",
    "s9=set(\"anu\")\n",
    "s10=s8.union(s9)\n",
    "print(s10)"
   ]
  },
  {
   "cell_type": "code",
   "execution_count": null,
   "id": "6f232d5a",
   "metadata": {},
   "outputs": [],
   "source": []
  }
 ],
 "metadata": {
  "kernelspec": {
   "display_name": "Python 3 (ipykernel)",
   "language": "python",
   "name": "python3"
  },
  "language_info": {
   "codemirror_mode": {
    "name": "ipython",
    "version": 3
   },
   "file_extension": ".py",
   "mimetype": "text/x-python",
   "name": "python",
   "nbconvert_exporter": "python",
   "pygments_lexer": "ipython3",
   "version": "3.9.7"
  }
 },
 "nbformat": 4,
 "nbformat_minor": 5
}
