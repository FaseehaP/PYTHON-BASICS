{
 "cells": [
  {
   "cell_type": "code",
   "execution_count": 1,
   "id": "eadc2804",
   "metadata": {},
   "outputs": [],
   "source": [
    "li=[]"
   ]
  },
  {
   "cell_type": "code",
   "execution_count": 2,
   "id": "6aede33e",
   "metadata": {},
   "outputs": [],
   "source": [
    "li=[2,4,6]"
   ]
  },
  {
   "cell_type": "code",
   "execution_count": 3,
   "id": "ddfc7380",
   "metadata": {},
   "outputs": [
    {
     "data": {
      "text/plain": [
       "[2, 4, 6]"
      ]
     },
     "execution_count": 3,
     "metadata": {},
     "output_type": "execute_result"
    }
   ],
   "source": [
    "li"
   ]
  },
  {
   "cell_type": "code",
   "execution_count": 4,
   "id": "d33b0ed1",
   "metadata": {},
   "outputs": [],
   "source": [
    "l1=[101,\"anu\",34,40,45]"
   ]
  },
  {
   "cell_type": "code",
   "execution_count": 5,
   "id": "3981f8da",
   "metadata": {},
   "outputs": [
    {
     "data": {
      "text/plain": [
       "[101, 'anu', 34, 40, 45]"
      ]
     },
     "execution_count": 5,
     "metadata": {},
     "output_type": "execute_result"
    }
   ],
   "source": [
    "l1"
   ]
  },
  {
   "cell_type": "code",
   "execution_count": 19,
   "id": "b071a8e6",
   "metadata": {},
   "outputs": [],
   "source": [
    "l1=[101,\"anu\",[34,40,45],5.5]"
   ]
  },
  {
   "cell_type": "code",
   "execution_count": 21,
   "id": "da324ddd",
   "metadata": {},
   "outputs": [
    {
     "name": "stdout",
     "output_type": "stream",
     "text": [
      "40\n",
      "34\n"
     ]
    }
   ],
   "source": [
    "print(l1[2][1])\n",
    "print(l1[-2][-3])"
   ]
  },
  {
   "cell_type": "code",
   "execution_count": 8,
   "id": "180595cb",
   "metadata": {},
   "outputs": [
    {
     "data": {
      "text/plain": [
       "[]"
      ]
     },
     "execution_count": 8,
     "metadata": {},
     "output_type": "execute_result"
    }
   ],
   "source": [
    "l1=list()\n",
    "l1"
   ]
  },
  {
   "cell_type": "code",
   "execution_count": 25,
   "id": "121ef79a",
   "metadata": {},
   "outputs": [
    {
     "data": {
      "text/plain": [
       "[1, 3, 5]"
      ]
     },
     "execution_count": 25,
     "metadata": {},
     "output_type": "execute_result"
    }
   ],
   "source": [
    "l1=list([1,3,5])\n",
    "l1"
   ]
  },
  {
   "cell_type": "code",
   "execution_count": 29,
   "id": "8797dc44",
   "metadata": {},
   "outputs": [
    {
     "data": {
      "text/plain": [
       "3"
      ]
     },
     "execution_count": 29,
     "metadata": {},
     "output_type": "execute_result"
    }
   ],
   "source": [
    "l1[-2]"
   ]
  },
  {
   "cell_type": "code",
   "execution_count": 30,
   "id": "efc1f9f2",
   "metadata": {},
   "outputs": [
    {
     "data": {
      "text/plain": [
       "5"
      ]
     },
     "execution_count": 30,
     "metadata": {},
     "output_type": "execute_result"
    }
   ],
   "source": [
    "l1[2]"
   ]
  },
  {
   "cell_type": "code",
   "execution_count": 31,
   "id": "88a546d8",
   "metadata": {},
   "outputs": [
    {
     "data": {
      "text/plain": [
       "['f', 'a', 's', 'e', 'e', 'h', 'a']"
      ]
     },
     "execution_count": 31,
     "metadata": {},
     "output_type": "execute_result"
    }
   ],
   "source": [
    "l2=['f','a','s','e','e','h','a']\n",
    "l2"
   ]
  },
  {
   "cell_type": "code",
   "execution_count": 33,
   "id": "15320d92",
   "metadata": {},
   "outputs": [
    {
     "name": "stdout",
     "output_type": "stream",
     "text": [
      "s\n"
     ]
    }
   ],
   "source": [
    "print(l2[-5])"
   ]
  },
  {
   "cell_type": "code",
   "execution_count": 34,
   "id": "1b2fea49",
   "metadata": {},
   "outputs": [
    {
     "name": "stdout",
     "output_type": "stream",
     "text": [
      "a\n"
     ]
    }
   ],
   "source": [
    "print(l2[6])"
   ]
  },
  {
   "cell_type": "code",
   "execution_count": 35,
   "id": "98c2ee16",
   "metadata": {},
   "outputs": [
    {
     "data": {
      "text/plain": [
       "['F', 'a', 's', 'e', 'e', 'h', 'a']"
      ]
     },
     "execution_count": 35,
     "metadata": {},
     "output_type": "execute_result"
    }
   ],
   "source": [
    "l2[0]='F'\n",
    "l2"
   ]
  },
  {
   "cell_type": "code",
   "execution_count": 36,
   "id": "b7e594e7",
   "metadata": {},
   "outputs": [
    {
     "name": "stdout",
     "output_type": "stream",
     "text": [
      "['F', 'a', 's', 'e', 'e', 'h', 'a', ' ']\n"
     ]
    }
   ],
   "source": [
    "l2.append(\" \")\n",
    "print(l2)"
   ]
  },
  {
   "cell_type": "code",
   "execution_count": 37,
   "id": "696a0a58",
   "metadata": {},
   "outputs": [
    {
     "name": "stdout",
     "output_type": "stream",
     "text": [
      "['F', 'a', 's', 'e', 'e', 'h', 'a', ' ', '.', 'P']\n"
     ]
    }
   ],
   "source": [
    "l2.extend([\".\",\"P\"])\n",
    "print(l2)"
   ]
  },
  {
   "cell_type": "code",
   "execution_count": 38,
   "id": "6d2da97e",
   "metadata": {},
   "outputs": [
    {
     "name": "stdout",
     "output_type": "stream",
     "text": [
      "['F', 'a', 's', 'e', 'e', 'h', 'a', ' ', '-', '.', 'P']\n"
     ]
    }
   ],
   "source": [
    "l2.insert(8,\"-\")\n",
    "print(l2)"
   ]
  },
  {
   "cell_type": "code",
   "execution_count": 39,
   "id": "d3e4931c",
   "metadata": {},
   "outputs": [
    {
     "data": {
      "text/plain": [
       "['F', 'a', 's', 'e', 'e', 'h', 'a', '-', '.', 'P']"
      ]
     },
     "execution_count": 39,
     "metadata": {},
     "output_type": "execute_result"
    }
   ],
   "source": [
    "del l2[7]\n",
    "l2"
   ]
  },
  {
   "cell_type": "code",
   "execution_count": 40,
   "id": "25e55033",
   "metadata": {},
   "outputs": [],
   "source": [
    "l2.clear()"
   ]
  },
  {
   "cell_type": "code",
   "execution_count": 41,
   "id": "b7c0b961",
   "metadata": {},
   "outputs": [
    {
     "data": {
      "text/plain": [
       "[]"
      ]
     },
     "execution_count": 41,
     "metadata": {},
     "output_type": "execute_result"
    }
   ],
   "source": [
    "l2"
   ]
  },
  {
   "cell_type": "code",
   "execution_count": 42,
   "id": "912e191f",
   "metadata": {},
   "outputs": [],
   "source": [
    "del l2"
   ]
  },
  {
   "cell_type": "code",
   "execution_count": 43,
   "id": "1044c700",
   "metadata": {},
   "outputs": [
    {
     "ename": "NameError",
     "evalue": "name 'l2' is not defined",
     "output_type": "error",
     "traceback": [
      "\u001b[1;31m---------------------------------------------------------------------------\u001b[0m",
      "\u001b[1;31mNameError\u001b[0m                                 Traceback (most recent call last)",
      "\u001b[1;32m~\\AppData\\Local\\Temp/ipykernel_10420/2371406284.py\u001b[0m in \u001b[0;36m<module>\u001b[1;34m\u001b[0m\n\u001b[1;32m----> 1\u001b[1;33m \u001b[0ml2\u001b[0m\u001b[1;33m\u001b[0m\u001b[1;33m\u001b[0m\u001b[0m\n\u001b[0m",
      "\u001b[1;31mNameError\u001b[0m: name 'l2' is not defined"
     ]
    }
   ],
   "source": [
    "l2"
   ]
  },
  {
   "cell_type": "code",
   "execution_count": 44,
   "id": "5a4d4d1f",
   "metadata": {},
   "outputs": [
    {
     "data": {
      "text/plain": [
       "['f', 'a', 's', 'i']"
      ]
     },
     "execution_count": 44,
     "metadata": {},
     "output_type": "execute_result"
    }
   ],
   "source": [
    "l3=[\"f\",\"a\",\"s\",\"i\"]\n",
    "l3"
   ]
  },
  {
   "cell_type": "code",
   "execution_count": 45,
   "id": "d5262ebe",
   "metadata": {},
   "outputs": [
    {
     "data": {
      "text/plain": [
       "['f', 'a', 'i']"
      ]
     },
     "execution_count": 45,
     "metadata": {},
     "output_type": "execute_result"
    }
   ],
   "source": [
    "l3.remove(\"s\")\n",
    "l3"
   ]
  },
  {
   "cell_type": "code",
   "execution_count": 46,
   "id": "c9ee7b89",
   "metadata": {},
   "outputs": [
    {
     "data": {
      "text/plain": [
       "['f', 'a']"
      ]
     },
     "execution_count": 46,
     "metadata": {},
     "output_type": "execute_result"
    }
   ],
   "source": [
    "l3.pop()\n",
    "l3"
   ]
  },
  {
   "cell_type": "code",
   "execution_count": 47,
   "id": "cf312dea",
   "metadata": {},
   "outputs": [
    {
     "data": {
      "text/plain": [
       "['a']"
      ]
     },
     "execution_count": 47,
     "metadata": {},
     "output_type": "execute_result"
    }
   ],
   "source": [
    "l3.pop(0)\n",
    "l3"
   ]
  },
  {
   "cell_type": "code",
   "execution_count": 1,
   "id": "c5615cc6",
   "metadata": {},
   "outputs": [
    {
     "data": {
      "text/plain": [
       "['anu', 'minu', 'tinu', 'sinu']"
      ]
     },
     "execution_count": 1,
     "metadata": {},
     "output_type": "execute_result"
    }
   ],
   "source": [
    "l4=[\"anu\",\"minu\",\"tinu\",\"sinu\"]\n",
    "l4"
   ]
  },
  {
   "cell_type": "code",
   "execution_count": 52,
   "id": "285a3917",
   "metadata": {},
   "outputs": [
    {
     "name": "stdout",
     "output_type": "stream",
     "text": [
      "['minu', 'tinu', 'sinu']\n"
     ]
    }
   ],
   "source": [
    "print(l4[1:4])"
   ]
  },
  {
   "cell_type": "code",
   "execution_count": 53,
   "id": "7fde6257",
   "metadata": {},
   "outputs": [
    {
     "name": "stdout",
     "output_type": "stream",
     "text": [
      "['minu', 'tinu']\n"
     ]
    }
   ],
   "source": [
    "print(l4[-3:-1])"
   ]
  },
  {
   "cell_type": "code",
   "execution_count": 57,
   "id": "52c44c16",
   "metadata": {},
   "outputs": [
    {
     "name": "stdout",
     "output_type": "stream",
     "text": [
      "[]\n"
     ]
    }
   ],
   "source": [
    "print(l4[-3:-0])"
   ]
  },
  {
   "cell_type": "code",
   "execution_count": 1,
   "id": "e694b949",
   "metadata": {},
   "outputs": [
    {
     "ename": "NameError",
     "evalue": "name 'l4' is not defined",
     "output_type": "error",
     "traceback": [
      "\u001b[1;31m---------------------------------------------------------------------------\u001b[0m",
      "\u001b[1;31mNameError\u001b[0m                                 Traceback (most recent call last)",
      "\u001b[1;32m~\\AppData\\Local\\Temp/ipykernel_1400/2852303903.py\u001b[0m in \u001b[0;36m<module>\u001b[1;34m\u001b[0m\n\u001b[1;32m----> 1\u001b[1;33m \u001b[0mprint\u001b[0m\u001b[1;33m(\u001b[0m\u001b[0ml4\u001b[0m\u001b[1;33m[\u001b[0m\u001b[1;33m-\u001b[0m\u001b[1;36m3\u001b[0m\u001b[1;33m:\u001b[0m\u001b[1;33m-\u001b[0m\u001b[1;36m2\u001b[0m\u001b[1;33m]\u001b[0m\u001b[1;33m)\u001b[0m\u001b[1;33m\u001b[0m\u001b[1;33m\u001b[0m\u001b[0m\n\u001b[0m",
      "\u001b[1;31mNameError\u001b[0m: name 'l4' is not defined"
     ]
    }
   ],
   "source": [
    "print(l4[-3:-2])"
   ]
  },
  {
   "cell_type": "code",
   "execution_count": null,
   "id": "3bb07a87",
   "metadata": {},
   "outputs": [],
   "source": [
    "mark=list()\n",
    "sum=0\n",
    "num = int(input(\"Enter a marks: \"))\n",
    "while num!=-1:\n",
    "    mark.append(num)\n",
    "    num = int(input(\"Enter a marks: \"))\n",
    "    sum+=num\n"
   ]
  },
  {
   "cell_type": "markdown",
   "id": "f5dad05b",
   "metadata": {},
   "source": [
    "sum"
   ]
  },
  {
   "cell_type": "code",
   "execution_count": 3,
   "id": "7c48b8b2",
   "metadata": {},
   "outputs": [
    {
     "data": {
      "text/plain": [
       "3"
      ]
     },
     "execution_count": 3,
     "metadata": {},
     "output_type": "execute_result"
    }
   ],
   "source": [
    "l5=['a','b','c','d','e','b','f','b']\n",
    "l5.count(\"b\")"
   ]
  },
  {
   "cell_type": "code",
   "execution_count": 4,
   "id": "b2ad94cf",
   "metadata": {},
   "outputs": [
    {
     "data": {
      "text/plain": [
       "2"
      ]
     },
     "execution_count": 4,
     "metadata": {},
     "output_type": "execute_result"
    }
   ],
   "source": [
    "l6=[\"anu\",\"minu\",\"anu\",\"tinu\"]\n",
    "l6.count(\"anu\")"
   ]
  },
  {
   "cell_type": "code",
   "execution_count": 15,
   "id": "aeb160ac",
   "metadata": {},
   "outputs": [
    {
     "name": "stdout",
     "output_type": "stream",
     "text": [
      "['a', 'e', 't', 'w', 'y', 'u']\n"
     ]
    }
   ],
   "source": [
    "l1=[\"a\",\"e\",\"t\"]\n",
    "l2=[\"w\",\"y\",\"u\"]\n",
    "l1.extend(l2)\n",
    "l3=l1\n",
    "print(l3)\n"
   ]
  },
  {
   "cell_type": "code",
   "execution_count": 21,
   "id": "27118f67",
   "metadata": {},
   "outputs": [
    {
     "data": {
      "text/plain": [
       "5"
      ]
     },
     "execution_count": 21,
     "metadata": {},
     "output_type": "execute_result"
    }
   ],
   "source": [
    "l3.index(\"u\")"
   ]
  },
  {
   "cell_type": "code",
   "execution_count": 19,
   "id": "b63bbc7e",
   "metadata": {},
   "outputs": [
    {
     "name": "stdout",
     "output_type": "stream",
     "text": [
      "10\n",
      "a\n"
     ]
    }
   ],
   "source": [
    "a=10\n",
    "print(a)\n",
    "print('a')"
   ]
  },
  {
   "cell_type": "code",
   "execution_count": 22,
   "id": "87f57534",
   "metadata": {},
   "outputs": [],
   "source": [
    "l3.insert(3,\"f\")"
   ]
  },
  {
   "cell_type": "code",
   "execution_count": 24,
   "id": "8653d1c8",
   "metadata": {},
   "outputs": [
    {
     "name": "stdout",
     "output_type": "stream",
     "text": [
      "['a', 'e', 't', 'f', 'w', 'y', 'u']\n"
     ]
    }
   ],
   "source": [
    "print(l3)"
   ]
  },
  {
   "cell_type": "code",
   "execution_count": 35,
   "id": "d708230f",
   "metadata": {},
   "outputs": [
    {
     "name": "stdout",
     "output_type": "stream",
     "text": [
      "34\n",
      "44\n",
      "66\n",
      "88\n",
      "90\n",
      "44\n",
      "9\n",
      "44\n",
      "3\n",
      "4\n",
      "1\n",
      "[34, 44, 66, 88, 77, 90, 44, 9, 44]\n",
      "[34, 44, 66, 88, 77, 90, 44, 9, 44, 100]\n",
      "[34, 44, 66, 88, 77, 90, 44, 44, 100]\n",
      "[34, 44, 66, 88, 77, 90, 44, 44, 100, 89, 55, 78, 66, 77, 44]\n",
      "4\n"
     ]
    }
   ],
   "source": [
    "li1=[34,44,66,88,90,44,9,44]\n",
    "print(li1[0])\n",
    "print(li1[1])\n",
    "print(li1[2])\n",
    "print(li1[3])\n",
    "print(li1[4])\n",
    "print(li1[5])\n",
    "print(li1[6])\n",
    "print(li1[7])\n",
    "print(li1.count(44))\n",
    "print(li1.index(90))\n",
    "print(li1.index(44))\n",
    "li1.insert(4,77)\n",
    "print(li1)\n",
    "li1.append(100)\n",
    "print(li1)\n",
    "li1.remove(9)\n",
    "print(li1)\n",
    "li2=[89,55,78,66,77,44]\n",
    "li1.extend(li2)\n",
    "print(li1)\n",
    "print(li1.count(44))"
   ]
  },
  {
   "cell_type": "code",
   "execution_count": null,
   "id": "fb6bbf9d",
   "metadata": {},
   "outputs": [],
   "source": []
  }
 ],
 "metadata": {
  "kernelspec": {
   "display_name": "Python 3 (ipykernel)",
   "language": "python",
   "name": "python3"
  },
  "language_info": {
   "codemirror_mode": {
    "name": "ipython",
    "version": 3
   },
   "file_extension": ".py",
   "mimetype": "text/x-python",
   "name": "python",
   "nbconvert_exporter": "python",
   "pygments_lexer": "ipython3",
   "version": "3.9.7"
  }
 },
 "nbformat": 4,
 "nbformat_minor": 5
}
