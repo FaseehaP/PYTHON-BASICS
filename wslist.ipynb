{
 "cells": [
  {
   "cell_type": "code",
   "execution_count": 32,
   "id": "d2db3120",
   "metadata": {},
   "outputs": [
    {
     "name": "stdout",
     "output_type": "stream",
     "text": [
      "[34, 88, 79, 12, 9]\n"
     ]
    }
   ],
   "source": [
    "lt=[34,88,79,12,9]\n",
    "print(lt)"
   ]
  },
  {
   "cell_type": "code",
   "execution_count": 33,
   "id": "40c677e5",
   "metadata": {},
   "outputs": [
    {
     "name": "stdout",
     "output_type": "stream",
     "text": [
      "sum : 222\n"
     ]
    }
   ],
   "source": [
    "print('sum :',sum(lt))"
   ]
  },
  {
   "cell_type": "code",
   "execution_count": 34,
   "id": "13ca346d",
   "metadata": {},
   "outputs": [
    {
     "name": "stdout",
     "output_type": "stream",
     "text": [
      "largest: 88\n"
     ]
    }
   ],
   "source": [
    "print('largest:',max(lt))"
   ]
  },
  {
   "cell_type": "code",
   "execution_count": 35,
   "id": "419c61aa",
   "metadata": {},
   "outputs": [
    {
     "name": "stdout",
     "output_type": "stream",
     "text": [
      "largest: 9\n"
     ]
    }
   ],
   "source": [
    "print('largest:',min(lt))"
   ]
  },
  {
   "cell_type": "code",
   "execution_count": 36,
   "id": "e99d2fe4",
   "metadata": {},
   "outputs": [
    {
     "name": "stdout",
     "output_type": "stream",
     "text": [
      "have element or not : True\n"
     ]
    }
   ],
   "source": [
    "print('have element or not :',any(lt))"
   ]
  },
  {
   "cell_type": "code",
   "execution_count": 37,
   "id": "d3ca7238",
   "metadata": {
    "scrolled": true
   },
   "outputs": [
    {
     "name": "stdout",
     "output_type": "stream",
     "text": [
      "[34, 88, 79, 12, 9]\n"
     ]
    }
   ],
   "source": [
    "ll=lt.copy()\n",
    "print(ll)"
   ]
  },
  {
   "cell_type": "code",
   "execution_count": 38,
   "id": "15a98d5d",
   "metadata": {},
   "outputs": [
    {
     "name": "stdout",
     "output_type": "stream",
     "text": [
      "[34, 88, 79, 12, 9, 56, 99, 79, 12]\n"
     ]
    }
   ],
   "source": [
    "l=[56,99,79,12]\n",
    "ll.extend(l)\n",
    "print(ll)"
   ]
  },
  {
   "cell_type": "code",
   "execution_count": 41,
   "id": "a03a9e4e",
   "metadata": {},
   "outputs": [
    {
     "ename": "IndexError",
     "evalue": "list index out of range",
     "output_type": "error",
     "traceback": [
      "\u001b[1;31m---------------------------------------------------------------------------\u001b[0m",
      "\u001b[1;31mIndexError\u001b[0m                                Traceback (most recent call last)",
      "\u001b[1;32m~\\AppData\\Local\\Temp/ipykernel_14152/1682916892.py\u001b[0m in \u001b[0;36m<module>\u001b[1;34m\u001b[0m\n\u001b[0;32m      1\u001b[0m \u001b[0ml\u001b[0m\u001b[1;33m=\u001b[0m\u001b[1;33m[\u001b[0m\u001b[1;33m]\u001b[0m\u001b[1;33m\u001b[0m\u001b[1;33m\u001b[0m\u001b[0m\n\u001b[0;32m      2\u001b[0m \u001b[1;32mfor\u001b[0m \u001b[0mi\u001b[0m \u001b[1;32min\u001b[0m \u001b[0mll\u001b[0m\u001b[1;33m:\u001b[0m\u001b[1;33m\u001b[0m\u001b[1;33m\u001b[0m\u001b[0m\n\u001b[1;32m----> 3\u001b[1;33m     \u001b[0mc\u001b[0m\u001b[1;33m=\u001b[0m\u001b[0mll\u001b[0m\u001b[1;33m.\u001b[0m\u001b[0mcount\u001b[0m\u001b[1;33m(\u001b[0m\u001b[0mll\u001b[0m\u001b[1;33m[\u001b[0m\u001b[0mi\u001b[0m\u001b[1;33m]\u001b[0m\u001b[1;33m)\u001b[0m\u001b[1;33m\u001b[0m\u001b[1;33m\u001b[0m\u001b[0m\n\u001b[0m\u001b[0;32m      4\u001b[0m     \u001b[1;32mif\u001b[0m \u001b[0mc\u001b[0m\u001b[1;33m>\u001b[0m\u001b[1;36m1\u001b[0m\u001b[1;33m:\u001b[0m\u001b[1;33m\u001b[0m\u001b[1;33m\u001b[0m\u001b[0m\n\u001b[0;32m      5\u001b[0m         \u001b[0ml\u001b[0m\u001b[1;33m.\u001b[0m\u001b[0mappend\u001b[0m\u001b[1;33m(\u001b[0m\u001b[0mll\u001b[0m\u001b[1;33m[\u001b[0m\u001b[0mi\u001b[0m\u001b[1;33m]\u001b[0m\u001b[1;33m)\u001b[0m\u001b[1;33m\u001b[0m\u001b[1;33m\u001b[0m\u001b[0m\n",
      "\u001b[1;31mIndexError\u001b[0m: list index out of range"
     ]
    }
   ],
   "source": [
    "l=[]\n",
    "for i in ll:\n",
    "    c=ll.count(ll[i])\n",
    "    if c>1:\n",
    "        l.append(ll[i])\n",
    "print(l)"
   ]
  },
  {
   "cell_type": "code",
   "execution_count": 42,
   "id": "68c3f691",
   "metadata": {},
   "outputs": [
    {
     "name": "stdout",
     "output_type": "stream",
     "text": [
      "[34, 88, 79, 12, 9, 56, 99]\n"
     ]
    }
   ],
   "source": [
    "for i in ll:\n",
    "    if i not in ul:\n",
    "        ul.append(i)\n",
    "print(ul)"
   ]
  },
  {
   "cell_type": "code",
   "execution_count": 46,
   "id": "45d79740",
   "metadata": {},
   "outputs": [
    {
     "name": "stdout",
     "output_type": "stream",
     "text": [
      "[45, 12]\n"
     ]
    }
   ],
   "source": [
    "l1=[56,88,90,45,12]\n",
    "l2=[12,70,66,45,9]\n",
    "cl=[]\n",
    "for i in l1:\n",
    "    if(i in l2):\n",
    "        cl.append(i)\n",
    "print(cl)"
   ]
  },
  {
   "cell_type": "code",
   "execution_count": 47,
   "id": "d4e0d30b",
   "metadata": {},
   "outputs": [
    {
     "name": "stdout",
     "output_type": "stream",
     "text": [
      "79\n",
      "9\n",
      "99\n",
      "79\n"
     ]
    }
   ],
   "source": [
    "for i in ll:\n",
    "    if(i%2==1):\n",
    "        print(i)"
   ]
  },
  {
   "cell_type": "code",
   "execution_count": 48,
   "id": "865d7f66",
   "metadata": {},
   "outputs": [
    {
     "name": "stdout",
     "output_type": "stream",
     "text": [
      "[12, 70, 66, 45, 9, 56, 88, 90, 45, 12]\n"
     ]
    }
   ],
   "source": [
    "for i in l1:\n",
    "    l2.append(i)\n",
    "print(l2)"
   ]
  },
  {
   "cell_type": "code",
   "execution_count": 52,
   "id": "050c29f7",
   "metadata": {},
   "outputs": [
    {
     "name": "stdout",
     "output_type": "stream",
     "text": [
      "['faseeha', 'kennaz']\n"
     ]
    }
   ],
   "source": [
    "st=\"faseeha kennaz\"\n",
    "sl=list(st.split())\n",
    "print(sl)"
   ]
  },
  {
   "cell_type": "code",
   "execution_count": null,
   "id": "d3b3740b",
   "metadata": {},
   "outputs": [],
   "source": []
  },
  {
   "cell_type": "code",
   "execution_count": null,
   "id": "490f9313",
   "metadata": {},
   "outputs": [],
   "source": []
  }
 ],
 "metadata": {
  "kernelspec": {
   "display_name": "Python 3 (ipykernel)",
   "language": "python",
   "name": "python3"
  },
  "language_info": {
   "codemirror_mode": {
    "name": "ipython",
    "version": 3
   },
   "file_extension": ".py",
   "mimetype": "text/x-python",
   "name": "python",
   "nbconvert_exporter": "python",
   "pygments_lexer": "ipython3",
   "version": "3.9.7"
  }
 },
 "nbformat": 4,
 "nbformat_minor": 5
}
