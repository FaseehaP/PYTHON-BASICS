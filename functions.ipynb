{
 "cells": [
  {
   "cell_type": "code",
   "execution_count": 34,
   "id": "32cdc948",
   "metadata": {},
   "outputs": [],
   "source": [
    "def greet(name):\n",
    "    \"\"\"to greet\"\"\"\n",
    "    print(\"Hello, \"+name+\" Good Morning..\")\n",
    "#greet('fasi')"
   ]
  },
  {
   "cell_type": "code",
   "execution_count": 35,
   "id": "85a90370",
   "metadata": {},
   "outputs": [
    {
     "name": "stdout",
     "output_type": "stream",
     "text": [
      "enter ur name :misriya mis\n",
      "Hello, Misriya mis Good Morning..\n"
     ]
    }
   ],
   "source": [
    "nm=str(input(\"enter ur name :\"))\n",
    "\n",
    "greet(nm.capitalize())"
   ]
  },
  {
   "cell_type": "code",
   "execution_count": 12,
   "id": "73a07dcc",
   "metadata": {},
   "outputs": [
    {
     "data": {
      "text/plain": [
       "55"
      ]
     },
     "execution_count": 12,
     "metadata": {},
     "output_type": "execute_result"
    }
   ],
   "source": [
    "def sum(n):\n",
    "    sum=0\n",
    "    for i in range(1,n+1):\n",
    "        sum=sum+i\n",
    "    return sum\n",
    "sum(10)\n",
    "    "
   ]
  },
  {
   "cell_type": "code",
   "execution_count": 27,
   "id": "079eae86",
   "metadata": {},
   "outputs": [
    {
     "name": "stdout",
     "output_type": "stream",
     "text": [
      "enter the number :22\n",
      "not a prime number\n"
     ]
    }
   ],
   "source": [
    "def prime(n):\n",
    "    f=1\n",
    "    for i in range(2,n):\n",
    "        if n%i==0:\n",
    "            f=0\n",
    "            break\n",
    "    if(f):\n",
    "        return 1\n",
    "    else:\n",
    "        return 0\n",
    "n=int(input(\"enter the number :\"))\n",
    "if prime(n)==1:\n",
    "    print(\"prime number\")\n",
    "else:\n",
    "    print(\"not a prime number\")"
   ]
  },
  {
   "cell_type": "code",
   "execution_count": 31,
   "id": "8dff867d",
   "metadata": {},
   "outputs": [
    {
     "data": {
      "text/plain": [
       "41"
      ]
     },
     "execution_count": 31,
     "metadata": {},
     "output_type": "execute_result"
    }
   ],
   "source": [
    "def rev(n):\n",
    "    rev=0\n",
    "    while(n>0):\n",
    "        rem=n%10\n",
    "        rev=rem+(rev*10)\n",
    "        n=n//10\n",
    "    return rev\n",
    "rev(14)"
   ]
  },
  {
   "cell_type": "code",
   "execution_count": 44,
   "id": "89a96bd8",
   "metadata": {},
   "outputs": [
    {
     "name": "stdout",
     "output_type": "stream",
     "text": [
      "enter the number :-88\n",
      "absolute value : 88\n",
      "to find absolute value\n"
     ]
    }
   ],
   "source": [
    "def absolute_no(num):\n",
    "    \"\"\"to find absolute value\"\"\"\n",
    "    if(num>=0):\n",
    "        return(num)\n",
    "    else:\n",
    "        return(-num)\n",
    "num=int(input(\"enter the number :\"))\n",
    "print('absolute value :',absolute_no(num))\n",
    "print(absolute_no.__doc__)"
   ]
  },
  {
   "cell_type": "code",
   "execution_count": 57,
   "id": "043b5d1b",
   "metadata": {},
   "outputs": [
    {
     "name": "stdout",
     "output_type": "stream",
     "text": [
      "hello  kiran,how are you?\n",
      "hello  anu,how is your day?\n"
     ]
    }
   ],
   "source": [
    "def greet(name,msg='how are you?'):\n",
    "    print('hello ',name+','+msg)\n",
    "greet('kiran')\n",
    "greet('anu','how is your day?')"
   ]
  },
  {
   "cell_type": "code",
   "execution_count": 53,
   "id": "86101677",
   "metadata": {},
   "outputs": [
    {
     "name": "stdout",
     "output_type": "stream",
     "text": [
      "value of x inside function is  60\n",
      "value of x in outside function is  30\n"
     ]
    }
   ],
   "source": [
    "x=30\n",
    "def fun():\n",
    "    x=60\n",
    "    print('value of x inside function is ',x)\n",
    "fun()\n",
    "print('value of x in outside function is ',x)"
   ]
  },
  {
   "cell_type": "code",
   "execution_count": 54,
   "id": "b33f6ecc",
   "metadata": {},
   "outputs": [
    {
     "name": "stdout",
     "output_type": "stream",
     "text": [
      "number 1 :56\n",
      "number 2 :78\n",
      "sum= 134\n"
     ]
    }
   ],
   "source": [
    "def add(n1,n2):\n",
    "    return n1+n2\n",
    "num1=int(input('number 1 :'))\n",
    "num2=int(input('number 2 :'))\n",
    "print(\"sum=\",add(num1,num2))"
   ]
  },
  {
   "cell_type": "code",
   "execution_count": 62,
   "id": "90aeb136",
   "metadata": {},
   "outputs": [
    {
     "name": "stdout",
     "output_type": "stream",
     "text": [
      "hello  fasi, how is your day\n",
      "hello  fahi, how is your day\n"
     ]
    }
   ],
   "source": [
    "def greet(name,msg='how are you?'):\n",
    "    print('hello ',name+','+msg)\n",
    "greet(msg=' how is your day',name='fasi')\n",
    "greet('fahi',msg=' how is your day')"
   ]
  },
  {
   "cell_type": "code",
   "execution_count": 1,
   "id": "c3f1cb87",
   "metadata": {},
   "outputs": [
    {
     "name": "stdout",
     "output_type": "stream",
     "text": [
      "3.141592653589793\n"
     ]
    }
   ],
   "source": [
    "import math\n",
    "print(math.pi)"
   ]
  },
  {
   "cell_type": "code",
   "execution_count": 6,
   "id": "570ce78d",
   "metadata": {},
   "outputs": [
    {
     "name": "stdout",
     "output_type": "stream",
     "text": [
      "5.0\n"
     ]
    }
   ],
   "source": [
    "import math as c\n",
    "print(c.sqrt(25))"
   ]
  },
  {
   "cell_type": "code",
   "execution_count": 7,
   "id": "74189bb8",
   "metadata": {},
   "outputs": [
    {
     "name": "stdout",
     "output_type": "stream",
     "text": [
      "3.141592653589793\n"
     ]
    }
   ],
   "source": [
    "from math import pi\n",
    "print(pi)"
   ]
  },
  {
   "cell_type": "code",
   "execution_count": null,
   "id": "67612398",
   "metadata": {},
   "outputs": [],
   "source": []
  }
 ],
 "metadata": {
  "kernelspec": {
   "display_name": "Python 3 (ipykernel)",
   "language": "python",
   "name": "python3"
  },
  "language_info": {
   "codemirror_mode": {
    "name": "ipython",
    "version": 3
   },
   "file_extension": ".py",
   "mimetype": "text/x-python",
   "name": "python",
   "nbconvert_exporter": "python",
   "pygments_lexer": "ipython3",
   "version": "3.9.7"
  }
 },
 "nbformat": 4,
 "nbformat_minor": 5
}
